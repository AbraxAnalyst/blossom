{
  "nbformat": 4,
  "nbformat_minor": 0,
  "metadata": {
    "colab": {
      "provenance": []
    },
    "kernelspec": {
      "name": "python3",
      "display_name": "Python 3"
    },
    "language_info": {
      "name": "python"
    }
  },
  "cells": [
    {
      "cell_type": "markdown",
      "source": [
        "# GIT EXERCISE"
      ],
      "metadata": {
        "id": "s6m-bZTUBr-q"
      }
    },
    {
      "cell_type": "markdown",
      "source": [
        "## Question 1 :\n",
        "Create a Python function that calculates the factorial of a given number.Instructions: Create a new Python file named factorial.py in your local directory. Write a function to calculate the factorial of a number using recursion or iteration. After writing the code, initialize a Git repository in the directory, add the file, commit the changes, and push it to a new repository on GitHub."
      ],
      "metadata": {
        "id": "67tew7ojBsV_"
      }
    },
    {
      "cell_type": "markdown",
      "source": [
        "## Question 2:\n",
        "\n",
        "Write a Python program to remove duplicates from a list.Instructions: Create a new Python file named remove_duplicates.py. Write the program to take a list as input and remove duplicate elements, preserving the original order. After writing the code, initialize a Git repository in the directory, add the file, commit the changes, and push it to a new repository on GitHub."
      ],
      "metadata": {
        "id": "ZT30jcpzBxmA"
      }
    },
    {
      "cell_type": "markdown",
      "source": [
        "## Question 3:\n",
        "\n",
        "Write a Python program to find the intersection of two sets.Instructions: Create a new Python file named set_intersection.py. Write the program to take two sets as input and find their intersection. After writing the code, initialize a Git repository in the directory, add the file, commit the changes, and push it to a new repository on GitHub."
      ],
      "metadata": {
        "id": "5vsvU97sBxpF"
      }
    },
    {
      "cell_type": "markdown",
      "source": [
        "## Question 4:\n",
        "\n",
        "Create a Python function that checks if two strings are anagrams of each other.Instructions: Create a new Python file named anagram_check.py. Write a function to check if two strings are anagrams of each other (i.e., contain the same characters but in a different order). After writing the code, initialize a Git repository in the directory, add the file, commit the changes, and push it to a new repository on GitHub."
      ],
      "metadata": {
        "id": "6jyAQ1HwDFFt"
      }
    },
    {
      "cell_type": "markdown",
      "source": [
        "## Question 5:\n",
        "\n",
        "Create a Python function that finds the maximum and minimum elements in a list.Instructions: Create a new Python file named max_min.py. Write a function to find the maximum and minimum elements in a given list. After writing the code, initialize a Git repository in the directory, add the file, commit the changes, and push it to a new repository on GitHub."
      ],
      "metadata": {
        "id": "d2NPZeK9DFd8"
      }
    },
    {
      "cell_type": "markdown",
      "source": [
        "## Question 6:\n",
        "\n",
        "Create a new branch named \"sort-strings-by-length\". Write a Python program to sort a list of strings based on the length of each string. Instructions: Create a new Python file named sort_strings_by_length.py. Write the program to take a list of strings as input and sort it based on the length of each string, from shortest to longest. After writing the code, initialize a Git repository in the directory, add the file, commit the changes, and push it to a new repository on GitHub. Finally, merge the branch into the main branch."
      ],
      "metadata": {
        "id": "Qd5rueQ1Bx5T"
      }
    }
  ]
}