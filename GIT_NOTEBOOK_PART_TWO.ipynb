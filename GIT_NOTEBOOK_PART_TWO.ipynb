{
  "nbformat": 4,
  "nbformat_minor": 0,
  "metadata": {
    "colab": {
      "provenance": []
    },
    "kernelspec": {
      "name": "python3",
      "display_name": "Python 3"
    },
    "language_info": {
      "name": "python"
    }
  },
  "cells": [
    {
      "cell_type": "markdown",
      "source": [
        "# Branch Management"
      ],
      "metadata": {
        "id": "226k2Yceg6_O"
      }
    },
    {
      "cell_type": "markdown",
      "source": [
        "## Creating a New Branch:\n",
        "### To create a new branch and switch to it.\n",
        "\n",
        "    git checkout -b <branch_name>\n"
      ],
      "metadata": {
        "id": "75eOteiNg7er"
      }
    },
    {
      "cell_type": "markdown",
      "source": [
        "## Listing Branches:\n",
        "\n",
        "    git branch\n"
      ],
      "metadata": {
        "id": "enj1L0P-g74W"
      }
    },
    {
      "cell_type": "markdown",
      "source": [
        "## Switching Branches:\n",
        "\n",
        "    git checkout <branch_name>\n"
      ],
      "metadata": {
        "id": "zppzidgThNYt"
      }
    },
    {
      "cell_type": "markdown",
      "source": [
        "## Deleting a Branch:\n",
        "Note: You cannot delete the branch you are currently on.\n",
        "\n",
        "    git branch -d <branch_name>\n"
      ],
      "metadata": {
        "id": "dIcgsSXfhNb3"
      }
    },
    {
      "cell_type": "markdown",
      "source": [
        "## Forcefully Deleting a Branch:\n",
        "\n",
        "    git branch -D <branch_name>\n"
      ],
      "metadata": {
        "id": "v0UzE1gGhcBd"
      }
    },
    {
      "cell_type": "markdown",
      "source": [
        "# Merging Changes"
      ],
      "metadata": {
        "id": "WltY6JkihcFi"
      }
    },
    {
      "cell_type": "markdown",
      "source": [
        "#### First, switch to the branch you want to merge changes into\n",
        "    git checkout <destination_branch>\n",
        "\n",
        "#### Then, merge changes from another branch into the current branch\n",
        "    git merge <source_branch>\n"
      ],
      "metadata": {
        "id": "l6lyl53ohNhf"
      }
    },
    {
      "cell_type": "markdown",
      "source": [
        "## Abort a Merge:\n",
        "### If you encounter conflicts during a merge and want to cancel it.\n",
        "\n",
        "    git merge --abort\n"
      ],
      "metadata": {
        "id": "FledbqA7htZO"
      }
    },
    {
      "cell_type": "markdown",
      "source": [
        "## Viewing Merge Status:\n",
        "### To check if there are any unmerged changes after a merge conflict.\n",
        "\n",
        "    git status\n"
      ],
      "metadata": {
        "id": "go7phoyKhtc0"
      }
    },
    {
      "cell_type": "markdown",
      "source": [
        "## Manual Merge Resolution:\n",
        "\n",
        "#### After seeing conflicts in 'git status', edit the conflicted files to resolve conflicts\n",
        "#### Then add the resolved files\n",
        "    git add <resolved_file1> <resolved_file2> ...\n",
        "\n",
        "#### Continue the merge process\n",
        "    git merge --continue\n"
      ],
      "metadata": {
        "id": "Z2AXJT50hOGx"
      }
    },
    {
      "cell_type": "markdown",
      "source": [
        "# TASKS"
      ],
      "metadata": {
        "id": "yP0Q0FTAj1rf"
      }
    },
    {
      "cell_type": "markdown",
      "source": [
        "## Question 1: Simple Interest\n",
        "Implement a Python function to calculate simple interest.\n",
        "\n",
        "Instructions:\n",
        "\n",
        "\n",
        "*   Initialize a Git repository named \"simple-interest\".\n",
        "*   Write a Python function to calculate simple interest.\n",
        "*   Add the code file to the repository, commit the changes.\n",
        "*   Create a new branch named \"simple_interest\".\n",
        "*   Switch to the new branch, make additional changes if needed.\n",
        "*   Commit the changes on the new branch.\n",
        "*   Merge the changes from \"simple_interest\" into the main branch.\n",
        "*   Push the main branch to the remote repository.\n",
        "\n",
        "\n",
        "\n",
        "\n",
        "\n",
        "\n",
        "\n",
        "\n"
      ],
      "metadata": {
        "id": "Nj6XHwKUiaes"
      }
    },
    {
      "cell_type": "markdown",
      "source": [
        "## Question 2: Volume of a Sphere\n",
        "Implement a Python function to calculate the volume of a sphere.\n",
        "\n",
        "Instructions:\n",
        "*   Initialize a Git repository named \"volume-of-sphere\".\n",
        "*  Write a Python function to calculate the volume of a sphere.\n",
        "*   Add the code file to the repository, commit the changes.\n",
        "*   Create a new branch name\"volume_of_sphere\".\n",
        "*   Switch to the new branch, make additional changes if needed.\n",
        "*   Commit the changes on the new branch.\n",
        "*   Merge the changes from \"volume_of_sphere\" into the main branch.\n",
        "*   Push the main branch to the remote repository.\n",
        "\n",
        "\n",
        "\n",
        "\n",
        "\n",
        "\n",
        "\n",
        "\n",
        "\n",
        "\n",
        "\n"
      ],
      "metadata": {
        "id": "pF4FMBFZd0g4"
      }
    },
    {
      "cell_type": "markdown",
      "source": [
        "## Question 3: Volume of a Cone\n",
        "Implement a Python function to calculate the volume of a cone.\n",
        "\n",
        "Instructions:\n",
        "*   Initialize a Git repository named \"volume-of-cone\".\n",
        "*   Write a Python function to calculate the volume of a cone.\n",
        "*   Add the code file to the repository, commit the changes.\n",
        "*   Create a new branch named \"volume_of_cone\".\n",
        "*   Switch to the new branch, make additional changes if needed.\n",
        "*  Commit the changes on the new branch.\n",
        "*   Merge the changes from \"volume_of_cone\" into the main branch.\n",
        "*   Push the main branch to the remote repository.\n",
        "\n",
        "\n",
        "\n",
        "\n",
        "\n",
        "\n",
        "\n",
        "\n",
        "\n",
        "\n",
        "\n"
      ],
      "metadata": {
        "id": "isYEUn0ue8VN"
      }
    },
    {
      "cell_type": "markdown",
      "source": [
        "## Question 4: Perimeter of a Triangle\n",
        "Implement a Python function to find the perimeter of a triangle given the lengths of its three sides.\n",
        "\n",
        "Instructions:\n",
        "*   Initialize a Git repository named \"perimeter-of-triangle\".\n",
        "*   Write the Python code for the perimeter of a triangle function.\n",
        "*   Add the code file to the repository, commit the changes.\n",
        "*   Create a new branch named \"perimeter_of_triangle\".\n",
        "*   Switch to the new branch, make additional changes if needed.\n",
        "*   Commit the changes on the new branch.\n",
        "*  Merge the changes from \"perimeter_of_triangle\" into the main branch.\n",
        "*   Push the main branch to the remote repository.\n",
        "\n",
        "\n",
        "\n",
        "\n",
        "\n",
        "\n",
        "\n",
        "\n",
        "\n",
        "\n",
        "\n",
        "\n",
        "\n",
        "\n"
      ],
      "metadata": {
        "id": "HpwksHV3fBXM"
      }
    },
    {
      "cell_type": "markdown",
      "source": [
        "## Question 5: Hypotenuse of a Right Triangle\n",
        "Implement a Python function to calculate the length of the hypotenuse of a right triangle given the lengths of the other two sides.\n",
        "\n",
        "Instructions:\n",
        "*   Initialize a Git repository named \"hypotenuse-of-triangle\".\n",
        "*   Write the Python code for the hypotenuse of a triangle function.\n",
        "*   Add the code file to the repository, commit the changes.\n",
        "*   Create a new branch named \"hypotenuse_of_triangle\".\n",
        "*   Switch to the new branch, make additional changes if needed.\n",
        "*   Commit the changes on the new branch.\n",
        "*   Merge the changes from \"hypotenuse_of_triangle\" into the main branch.\n",
        "*   Push the main branch to the remote repository.\n",
        "\n",
        "\n",
        "\n",
        "\n",
        "\n",
        "\n",
        "\n",
        "\n",
        "\n"
      ],
      "metadata": {
        "id": "Oz2ZfbelfJRs"
      }
    },
    {
      "cell_type": "markdown",
      "source": [
        "# Undoing Changes in Git"
      ],
      "metadata": {
        "id": "i3jyilQikHEv"
      }
    },
    {
      "cell_type": "markdown",
      "source": [
        "## Undoing Staged Changes:\n",
        "### If you have staged changes but haven't committed them yet.\n",
        "\n",
        "#### Unstage a specific file\n",
        "    git rm --cached <filename>\n",
        "\n",
        "#### Unstage all files\n",
        "    git rm -r --cached .\n",
        "\n"
      ],
      "metadata": {
        "id": "RrINXELHkHSc"
      }
    },
    {
      "cell_type": "markdown",
      "source": [
        "## Amending the Last Commit:\n",
        "### If you want to add changes to the previous commit or modify its message.\n",
        "\n",
        "#### Add staged changes to the last commit\n",
        "    git commit --amend\n",
        "\n",
        "#### Amend the commit message\n",
        "    git commit --amend -m \"New commit message\"\n"
      ],
      "metadata": {
        "id": "SbDQuRPFkHWY"
      }
    },
    {
      "cell_type": "markdown",
      "source": [
        "## Reverting a Commit:\n",
        "### If you want to undo a commit and create a new commit that undoes the changes.\n",
        "\n",
        "#### Revert the specified commit\n",
        "    git revert <commit_hash>\n",
        "\n",
        "#### Revert the last commit\n",
        "    git revert HEAD\n",
        "\n",
        "#### Revert a range of commits\n",
        "    git revert <commit_hash1>..<commit_hash2>\n"
      ],
      "metadata": {
        "id": "rS4aXMUykHaH"
      }
    },
    {
      "cell_type": "markdown",
      "source": [
        "## Undoing a Merge:\n",
        "### If you want to undo a merge operation that you regret.\n",
        "\n",
        "#### Reset the merge commit and preserve changes\n",
        "    git reset --merge ORIG_HEAD\n"
      ],
      "metadata": {
        "id": "6RNCQ9JnlmQK"
      }
    },
    {
      "cell_type": "markdown",
      "source": [
        "## Restore a deleted content from the most recent commit\n",
        "    git restore --source=<commit_hash> <file_name>\n",
        "\n"
      ],
      "metadata": {
        "id": "ezVHqBfOl0_h"
      }
    }
  ]
}