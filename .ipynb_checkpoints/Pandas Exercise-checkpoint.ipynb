{
 "cells": [
  {
   "cell_type": "markdown",
   "id": "87e766d8",
   "metadata": {},
   "source": [
    "# Exercise"
   ]
  },
  {
   "cell_type": "markdown",
   "id": "2c5fcf17",
   "metadata": {},
   "source": [
    "## Use this for the exercise"
   ]
  },
  {
   "cell_type": "code",
   "execution_count": 1,
   "id": "df762c19",
   "metadata": {},
   "outputs": [],
   "source": [
    "import pandas as pd\n",
    "\n",
    "# Create a DataFrame from a dictionary\n",
    "data = {\n",
    "    'Name': ['John', 'Alice', 'Bob', 'Emily', 'David'],\n",
    "    'Age': [30, 25, 35, 28, 32],\n",
    "    'City': ['New York', 'Los Angeles', 'Chicago', 'Houston', 'San Francisco'],\n",
    "    'Gender': ['M', 'F', 'M', 'F', 'M']\n",
    "}\n",
    "df = pd.DataFrame(data)\n",
    "\n",
    "# Save DataFrame to a CSV file\n",
    "df.to_csv('data.csv', index=False)\n",
    "\n",
    "\n",
    "# Create a new DataFrame from a dictionary\n",
    "new_data = {\n",
    "    'Name': ['Michael', 'Sarah'],\n",
    "    'Age': [41, 40],\n",
    "    'City': ['Miami', 'Seattle'],\n",
    "    'Gender': ['M', 'F']\n",
    "}\n"
   ]
  },
  {
   "cell_type": "markdown",
   "id": "959af70b",
   "metadata": {},
   "source": [
    "## Question 1:\n",
    "\n",
    "### How do you read a CSV file into a pandas DataFrame?"
   ]
  },
  {
   "cell_type": "code",
   "execution_count": 3,
   "id": "acf02d32-cbc1-4365-b229-d12d08396ea4",
   "metadata": {},
   "outputs": [
    {
     "data": {
      "text/html": [
       "<div>\n",
       "<style scoped>\n",
       "    .dataframe tbody tr th:only-of-type {\n",
       "        vertical-align: middle;\n",
       "    }\n",
       "\n",
       "    .dataframe tbody tr th {\n",
       "        vertical-align: top;\n",
       "    }\n",
       "\n",
       "    .dataframe thead th {\n",
       "        text-align: right;\n",
       "    }\n",
       "</style>\n",
       "<table border=\"1\" class=\"dataframe\">\n",
       "  <thead>\n",
       "    <tr style=\"text-align: right;\">\n",
       "      <th></th>\n",
       "      <th>Name</th>\n",
       "      <th>Age</th>\n",
       "      <th>City</th>\n",
       "      <th>Gender</th>\n",
       "    </tr>\n",
       "  </thead>\n",
       "  <tbody>\n",
       "    <tr>\n",
       "      <th>0</th>\n",
       "      <td>John</td>\n",
       "      <td>30</td>\n",
       "      <td>New York</td>\n",
       "      <td>M</td>\n",
       "    </tr>\n",
       "    <tr>\n",
       "      <th>1</th>\n",
       "      <td>Alice</td>\n",
       "      <td>25</td>\n",
       "      <td>Los Angeles</td>\n",
       "      <td>F</td>\n",
       "    </tr>\n",
       "    <tr>\n",
       "      <th>2</th>\n",
       "      <td>Bob</td>\n",
       "      <td>35</td>\n",
       "      <td>Chicago</td>\n",
       "      <td>M</td>\n",
       "    </tr>\n",
       "    <tr>\n",
       "      <th>3</th>\n",
       "      <td>Emily</td>\n",
       "      <td>28</td>\n",
       "      <td>Houston</td>\n",
       "      <td>F</td>\n",
       "    </tr>\n",
       "    <tr>\n",
       "      <th>4</th>\n",
       "      <td>David</td>\n",
       "      <td>32</td>\n",
       "      <td>San Francisco</td>\n",
       "      <td>M</td>\n",
       "    </tr>\n",
       "  </tbody>\n",
       "</table>\n",
       "</div>"
      ],
      "text/plain": [
       "    Name  Age           City Gender\n",
       "0   John   30       New York      M\n",
       "1  Alice   25    Los Angeles      F\n",
       "2    Bob   35        Chicago      M\n",
       "3  Emily   28        Houston      F\n",
       "4  David   32  San Francisco      M"
      ]
     },
     "execution_count": 3,
     "metadata": {},
     "output_type": "execute_result"
    }
   ],
   "source": [
    "# To read a CSV file into pandas DataFrame, the syntax read_csv is use\n",
    "df= pd.read_csv('data.csv')\n",
    "df"
   ]
  },
  {
   "cell_type": "markdown",
   "id": "46a6d2b5",
   "metadata": {},
   "source": [
    "## Question 2:\n",
    "\n",
    "### How do you select only specific columns from a DataFrame?"
   ]
  },
  {
   "cell_type": "code",
   "execution_count": 5,
   "id": "f3751c53-a9f7-44a9-b923-f4066a770c7b",
   "metadata": {},
   "outputs": [
    {
     "data": {
      "text/html": [
       "<div>\n",
       "<style scoped>\n",
       "    .dataframe tbody tr th:only-of-type {\n",
       "        vertical-align: middle;\n",
       "    }\n",
       "\n",
       "    .dataframe tbody tr th {\n",
       "        vertical-align: top;\n",
       "    }\n",
       "\n",
       "    .dataframe thead th {\n",
       "        text-align: right;\n",
       "    }\n",
       "</style>\n",
       "<table border=\"1\" class=\"dataframe\">\n",
       "  <thead>\n",
       "    <tr style=\"text-align: right;\">\n",
       "      <th></th>\n",
       "      <th>Name</th>\n",
       "    </tr>\n",
       "  </thead>\n",
       "  <tbody>\n",
       "    <tr>\n",
       "      <th>0</th>\n",
       "      <td>John</td>\n",
       "    </tr>\n",
       "    <tr>\n",
       "      <th>1</th>\n",
       "      <td>Alice</td>\n",
       "    </tr>\n",
       "    <tr>\n",
       "      <th>2</th>\n",
       "      <td>Bob</td>\n",
       "    </tr>\n",
       "    <tr>\n",
       "      <th>3</th>\n",
       "      <td>Emily</td>\n",
       "    </tr>\n",
       "    <tr>\n",
       "      <th>4</th>\n",
       "      <td>David</td>\n",
       "    </tr>\n",
       "  </tbody>\n",
       "</table>\n",
       "</div>"
      ],
      "text/plain": [
       "    Name\n",
       "0   John\n",
       "1  Alice\n",
       "2    Bob\n",
       "3  Emily\n",
       "4  David"
      ]
     },
     "execution_count": 5,
     "metadata": {},
     "output_type": "execute_result"
    }
   ],
   "source": [
    "#to select column Name from the df \n",
    "df[['Name']]"
   ]
  },
  {
   "cell_type": "markdown",
   "id": "a914a692",
   "metadata": {},
   "source": [
    "## Question 3:\n",
    "\n",
    "### How do you filter rows in a DataFrame based on a condition?"
   ]
  },
  {
   "cell_type": "code",
   "execution_count": 12,
   "id": "a8712f45-f1ff-4d74-bdef-ec262bb015fb",
   "metadata": {},
   "outputs": [
    {
     "data": {
      "text/html": [
       "<div>\n",
       "<style scoped>\n",
       "    .dataframe tbody tr th:only-of-type {\n",
       "        vertical-align: middle;\n",
       "    }\n",
       "\n",
       "    .dataframe tbody tr th {\n",
       "        vertical-align: top;\n",
       "    }\n",
       "\n",
       "    .dataframe thead th {\n",
       "        text-align: right;\n",
       "    }\n",
       "</style>\n",
       "<table border=\"1\" class=\"dataframe\">\n",
       "  <thead>\n",
       "    <tr style=\"text-align: right;\">\n",
       "      <th></th>\n",
       "      <th>Name</th>\n",
       "      <th>Age</th>\n",
       "      <th>City</th>\n",
       "      <th>Gender</th>\n",
       "    </tr>\n",
       "  </thead>\n",
       "  <tbody>\n",
       "    <tr>\n",
       "      <th>1</th>\n",
       "      <td>Alice</td>\n",
       "      <td>25</td>\n",
       "      <td>Los Angeles</td>\n",
       "      <td>F</td>\n",
       "    </tr>\n",
       "  </tbody>\n",
       "</table>\n",
       "</div>"
      ],
      "text/plain": [
       "    Name  Age         City Gender\n",
       "1  Alice   25  Los Angeles      F"
      ]
     },
     "execution_count": 12,
     "metadata": {},
     "output_type": "execute_result"
    }
   ],
   "source": [
    "#Filering DataFrame on condition of Alice Name \n",
    "filtered = df[df['Name'] == 'Alice']\n",
    "filtered"
   ]
  },
  {
   "cell_type": "markdown",
   "id": "f5fab782",
   "metadata": {},
   "source": [
    "## Question 4:\n",
    "\n",
    "### How do you drop missing values (NaN) from a DataFrame?"
   ]
  },
  {
   "cell_type": "code",
   "execution_count": null,
   "id": "0257a48b-f4d6-4541-b8f6-a4606ea9b4a1",
   "metadata": {},
   "outputs": [],
   "source": [
    "# Droping missing values is best used with function \n",
    "dataframe.dropna()\n"
   ]
  },
  {
   "cell_type": "markdown",
   "id": "023a7b68",
   "metadata": {},
   "source": [
    "## Question 5:\n",
    "\n",
    "### How do you merge two DataFrames in pandas?"
   ]
  },
  {
   "cell_type": "code",
   "execution_count": 25,
   "id": "effa2807-5d1f-476b-aad3-fcb8139e4bcb",
   "metadata": {},
   "outputs": [
    {
     "data": {
      "text/html": [
       "<div>\n",
       "<style scoped>\n",
       "    .dataframe tbody tr th:only-of-type {\n",
       "        vertical-align: middle;\n",
       "    }\n",
       "\n",
       "    .dataframe tbody tr th {\n",
       "        vertical-align: top;\n",
       "    }\n",
       "\n",
       "    .dataframe thead th {\n",
       "        text-align: right;\n",
       "    }\n",
       "</style>\n",
       "<table border=\"1\" class=\"dataframe\">\n",
       "  <thead>\n",
       "    <tr style=\"text-align: right;\">\n",
       "      <th></th>\n",
       "      <th>Name</th>\n",
       "      <th>Age_x</th>\n",
       "      <th>City_x</th>\n",
       "      <th>Gender_x</th>\n",
       "      <th>Age_y</th>\n",
       "      <th>City_y</th>\n",
       "      <th>Gender_y</th>\n",
       "    </tr>\n",
       "  </thead>\n",
       "  <tbody>\n",
       "    <tr>\n",
       "      <th>0</th>\n",
       "      <td>Alice</td>\n",
       "      <td>25.0</td>\n",
       "      <td>Los Angeles</td>\n",
       "      <td>F</td>\n",
       "      <td>NaN</td>\n",
       "      <td>NaN</td>\n",
       "      <td>NaN</td>\n",
       "    </tr>\n",
       "    <tr>\n",
       "      <th>1</th>\n",
       "      <td>Bob</td>\n",
       "      <td>35.0</td>\n",
       "      <td>Chicago</td>\n",
       "      <td>M</td>\n",
       "      <td>NaN</td>\n",
       "      <td>NaN</td>\n",
       "      <td>NaN</td>\n",
       "    </tr>\n",
       "    <tr>\n",
       "      <th>2</th>\n",
       "      <td>David</td>\n",
       "      <td>32.0</td>\n",
       "      <td>San Francisco</td>\n",
       "      <td>M</td>\n",
       "      <td>NaN</td>\n",
       "      <td>NaN</td>\n",
       "      <td>NaN</td>\n",
       "    </tr>\n",
       "    <tr>\n",
       "      <th>3</th>\n",
       "      <td>Emily</td>\n",
       "      <td>28.0</td>\n",
       "      <td>Houston</td>\n",
       "      <td>F</td>\n",
       "      <td>NaN</td>\n",
       "      <td>NaN</td>\n",
       "      <td>NaN</td>\n",
       "    </tr>\n",
       "    <tr>\n",
       "      <th>4</th>\n",
       "      <td>John</td>\n",
       "      <td>30.0</td>\n",
       "      <td>New York</td>\n",
       "      <td>M</td>\n",
       "      <td>NaN</td>\n",
       "      <td>NaN</td>\n",
       "      <td>NaN</td>\n",
       "    </tr>\n",
       "    <tr>\n",
       "      <th>5</th>\n",
       "      <td>Michael</td>\n",
       "      <td>NaN</td>\n",
       "      <td>NaN</td>\n",
       "      <td>NaN</td>\n",
       "      <td>41.0</td>\n",
       "      <td>Miami</td>\n",
       "      <td>M</td>\n",
       "    </tr>\n",
       "    <tr>\n",
       "      <th>6</th>\n",
       "      <td>Sarah</td>\n",
       "      <td>NaN</td>\n",
       "      <td>NaN</td>\n",
       "      <td>NaN</td>\n",
       "      <td>40.0</td>\n",
       "      <td>Seattle</td>\n",
       "      <td>F</td>\n",
       "    </tr>\n",
       "  </tbody>\n",
       "</table>\n",
       "</div>"
      ],
      "text/plain": [
       "      Name  Age_x         City_x Gender_x  Age_y   City_y Gender_y\n",
       "0    Alice   25.0    Los Angeles        F    NaN      NaN      NaN\n",
       "1      Bob   35.0        Chicago        M    NaN      NaN      NaN\n",
       "2    David   32.0  San Francisco        M    NaN      NaN      NaN\n",
       "3    Emily   28.0        Houston        F    NaN      NaN      NaN\n",
       "4     John   30.0       New York        M    NaN      NaN      NaN\n",
       "5  Michael    NaN            NaN      NaN   41.0    Miami        M\n",
       "6    Sarah    NaN            NaN      NaN   40.0  Seattle        F"
      ]
     },
     "execution_count": 25,
     "metadata": {},
     "output_type": "execute_result"
    }
   ],
   "source": [
    "#df2 = pd.DataFrame(new_data)\n",
    "df3= pd.merge(df,df2, on= 'Name', how= 'outer',)\n",
    "df3"
   ]
  },
  {
   "cell_type": "markdown",
   "id": "f4f731c1",
   "metadata": {},
   "source": [
    "## Question 6:\n",
    "\n",
    "### How do you create a new DataFrame from a dictionary?"
   ]
  },
  {
   "cell_type": "code",
   "execution_count": null,
   "id": "836c3d60-5e62-495e-b4fa-aaa7f2dc12d3",
   "metadata": {},
   "outputs": [],
   "source": [
    "data = {\n",
    "    'Name': ['Kay', 'Alice', 'Tani', 'Emily', 'David'],\n",
    "    'Age': [30, 25, 35, 28, 32],\n",
    "    'City': ['New York', 'Los Angeles', 'Chicago', 'Houston', 'San Francisco'],\n",
    "    'Gender': ['M', 'F', 'M', 'F', 'M']\n",
    "}\n",
    "dataframe = pd.DataFrame(data)"
   ]
  },
  {
   "cell_type": "markdown",
   "id": "824ca2bf",
   "metadata": {},
   "source": [
    "## Question 7:\n",
    "\n",
    "### How do you fill missing values in a DataFrame with a specific value?"
   ]
  },
  {
   "cell_type": "code",
   "execution_count": null,
   "id": "92712ec5-41bc-469f-b339-8e53988b82ab",
   "metadata": {},
   "outputs": [],
   "source": [
    "# We use forward fill to fill missing Values"
   ]
  },
  {
   "cell_type": "markdown",
   "id": "7513a3d9",
   "metadata": {},
   "source": [
    "## Question 8:\n",
    "\n",
    "### How do you create a DataFrame from a CSV file with custom column names?"
   ]
  },
  {
   "cell_type": "code",
   "execution_count": 27,
   "id": "560173ce-6f48-49c7-b494-701509f2eb44",
   "metadata": {},
   "outputs": [
    {
     "data": {
      "text/html": [
       "<div>\n",
       "<style scoped>\n",
       "    .dataframe tbody tr th:only-of-type {\n",
       "        vertical-align: middle;\n",
       "    }\n",
       "\n",
       "    .dataframe tbody tr th {\n",
       "        vertical-align: top;\n",
       "    }\n",
       "\n",
       "    .dataframe thead th {\n",
       "        text-align: right;\n",
       "    }\n",
       "</style>\n",
       "<table border=\"1\" class=\"dataframe\">\n",
       "  <thead>\n",
       "    <tr style=\"text-align: right;\">\n",
       "      <th></th>\n",
       "      <th>Name</th>\n",
       "    </tr>\n",
       "  </thead>\n",
       "  <tbody>\n",
       "    <tr>\n",
       "      <th>0</th>\n",
       "      <td>John</td>\n",
       "    </tr>\n",
       "    <tr>\n",
       "      <th>1</th>\n",
       "      <td>Alice</td>\n",
       "    </tr>\n",
       "    <tr>\n",
       "      <th>2</th>\n",
       "      <td>Bob</td>\n",
       "    </tr>\n",
       "    <tr>\n",
       "      <th>3</th>\n",
       "      <td>Emily</td>\n",
       "    </tr>\n",
       "    <tr>\n",
       "      <th>4</th>\n",
       "      <td>David</td>\n",
       "    </tr>\n",
       "  </tbody>\n",
       "</table>\n",
       "</div>"
      ],
      "text/plain": [
       "    Name\n",
       "0   John\n",
       "1  Alice\n",
       "2    Bob\n",
       "3  Emily\n",
       "4  David"
      ]
     },
     "execution_count": 27,
     "metadata": {},
     "output_type": "execute_result"
    }
   ],
   "source": [
    "cus_column = pd.read_csv('data.csv', usecols=['Name'])\n",
    "cus_column"
   ]
  },
  {
   "cell_type": "markdown",
   "id": "547bbdf7",
   "metadata": {},
   "source": [
    "## Question 9:\n",
    "\n",
    "### How do you merge two DataFrames based on multiple columns?"
   ]
  },
  {
   "cell_type": "code",
   "execution_count": 29,
   "id": "20daa64c-153a-43ad-ad81-4ce2382fad3d",
   "metadata": {},
   "outputs": [
    {
     "data": {
      "text/html": [
       "<div>\n",
       "<style scoped>\n",
       "    .dataframe tbody tr th:only-of-type {\n",
       "        vertical-align: middle;\n",
       "    }\n",
       "\n",
       "    .dataframe tbody tr th {\n",
       "        vertical-align: top;\n",
       "    }\n",
       "\n",
       "    .dataframe thead th {\n",
       "        text-align: right;\n",
       "    }\n",
       "</style>\n",
       "<table border=\"1\" class=\"dataframe\">\n",
       "  <thead>\n",
       "    <tr style=\"text-align: right;\">\n",
       "      <th></th>\n",
       "      <th>Name</th>\n",
       "      <th>Age</th>\n",
       "      <th>City_x</th>\n",
       "      <th>Gender_x</th>\n",
       "      <th>City_y</th>\n",
       "      <th>Gender_y</th>\n",
       "    </tr>\n",
       "  </thead>\n",
       "  <tbody>\n",
       "    <tr>\n",
       "      <th>0</th>\n",
       "      <td>Alice</td>\n",
       "      <td>25</td>\n",
       "      <td>Los Angeles</td>\n",
       "      <td>F</td>\n",
       "      <td>NaN</td>\n",
       "      <td>NaN</td>\n",
       "    </tr>\n",
       "    <tr>\n",
       "      <th>1</th>\n",
       "      <td>Bob</td>\n",
       "      <td>35</td>\n",
       "      <td>Chicago</td>\n",
       "      <td>M</td>\n",
       "      <td>NaN</td>\n",
       "      <td>NaN</td>\n",
       "    </tr>\n",
       "    <tr>\n",
       "      <th>2</th>\n",
       "      <td>David</td>\n",
       "      <td>32</td>\n",
       "      <td>San Francisco</td>\n",
       "      <td>M</td>\n",
       "      <td>NaN</td>\n",
       "      <td>NaN</td>\n",
       "    </tr>\n",
       "    <tr>\n",
       "      <th>3</th>\n",
       "      <td>Emily</td>\n",
       "      <td>28</td>\n",
       "      <td>Houston</td>\n",
       "      <td>F</td>\n",
       "      <td>NaN</td>\n",
       "      <td>NaN</td>\n",
       "    </tr>\n",
       "    <tr>\n",
       "      <th>4</th>\n",
       "      <td>John</td>\n",
       "      <td>30</td>\n",
       "      <td>New York</td>\n",
       "      <td>M</td>\n",
       "      <td>NaN</td>\n",
       "      <td>NaN</td>\n",
       "    </tr>\n",
       "    <tr>\n",
       "      <th>5</th>\n",
       "      <td>Michael</td>\n",
       "      <td>41</td>\n",
       "      <td>NaN</td>\n",
       "      <td>NaN</td>\n",
       "      <td>Miami</td>\n",
       "      <td>M</td>\n",
       "    </tr>\n",
       "    <tr>\n",
       "      <th>6</th>\n",
       "      <td>Sarah</td>\n",
       "      <td>40</td>\n",
       "      <td>NaN</td>\n",
       "      <td>NaN</td>\n",
       "      <td>Seattle</td>\n",
       "      <td>F</td>\n",
       "    </tr>\n",
       "  </tbody>\n",
       "</table>\n",
       "</div>"
      ],
      "text/plain": [
       "      Name  Age         City_x Gender_x   City_y Gender_y\n",
       "0    Alice   25    Los Angeles        F      NaN      NaN\n",
       "1      Bob   35        Chicago        M      NaN      NaN\n",
       "2    David   32  San Francisco        M      NaN      NaN\n",
       "3    Emily   28        Houston        F      NaN      NaN\n",
       "4     John   30       New York        M      NaN      NaN\n",
       "5  Michael   41            NaN      NaN    Miami        M\n",
       "6    Sarah   40            NaN      NaN  Seattle        F"
      ]
     },
     "execution_count": 29,
     "metadata": {},
     "output_type": "execute_result"
    }
   ],
   "source": [
    "df3= pd.merge(df,df2, on= ['Name','Age'] ,how= 'outer',)\n",
    "df3"
   ]
  },
  {
   "cell_type": "markdown",
   "id": "8140274f",
   "metadata": {},
   "source": [
    "## Question 10:\n",
    "\n",
    "### How do you perform an inner join between two DataFrames in pandas?"
   ]
  },
  {
   "cell_type": "code",
   "execution_count": 33,
   "id": "8bb0c4ca-5a0d-47ec-9a4f-3bfa3449588e",
   "metadata": {},
   "outputs": [
    {
     "data": {
      "text/html": [
       "<div>\n",
       "<style scoped>\n",
       "    .dataframe tbody tr th:only-of-type {\n",
       "        vertical-align: middle;\n",
       "    }\n",
       "\n",
       "    .dataframe tbody tr th {\n",
       "        vertical-align: top;\n",
       "    }\n",
       "\n",
       "    .dataframe thead th {\n",
       "        text-align: right;\n",
       "    }\n",
       "</style>\n",
       "<table border=\"1\" class=\"dataframe\">\n",
       "  <thead>\n",
       "    <tr style=\"text-align: right;\">\n",
       "      <th></th>\n",
       "      <th>Name</th>\n",
       "      <th>Age</th>\n",
       "      <th>City</th>\n",
       "      <th>Gender</th>\n",
       "      <th>Name_right</th>\n",
       "      <th>Age_right</th>\n",
       "      <th>City_right</th>\n",
       "      <th>Gender_right</th>\n",
       "    </tr>\n",
       "  </thead>\n",
       "  <tbody>\n",
       "    <tr>\n",
       "      <th>0</th>\n",
       "      <td>Michael</td>\n",
       "      <td>41</td>\n",
       "      <td>Miami</td>\n",
       "      <td>M</td>\n",
       "      <td>John</td>\n",
       "      <td>30</td>\n",
       "      <td>New York</td>\n",
       "      <td>M</td>\n",
       "    </tr>\n",
       "    <tr>\n",
       "      <th>1</th>\n",
       "      <td>Sarah</td>\n",
       "      <td>40</td>\n",
       "      <td>Seattle</td>\n",
       "      <td>F</td>\n",
       "      <td>Alice</td>\n",
       "      <td>25</td>\n",
       "      <td>Los Angeles</td>\n",
       "      <td>F</td>\n",
       "    </tr>\n",
       "  </tbody>\n",
       "</table>\n",
       "</div>"
      ],
      "text/plain": [
       "      Name  Age     City Gender Name_right  Age_right   City_right  \\\n",
       "0  Michael   41    Miami      M       John         30     New York   \n",
       "1    Sarah   40  Seattle      F      Alice         25  Los Angeles   \n",
       "\n",
       "  Gender_right  \n",
       "0            M  \n",
       "1            F  "
      ]
     },
     "execution_count": 33,
     "metadata": {},
     "output_type": "execute_result"
    }
   ],
   "source": [
    "df2.join(df, how='inner',rsuffix='_right')"
   ]
  },
  {
   "cell_type": "markdown",
   "id": "1594821f",
   "metadata": {},
   "source": [
    "## Question 11:\n",
    "\n",
    "### How do you perform a left join between two DataFrames in pandas?"
   ]
  },
  {
   "cell_type": "markdown",
   "id": "68564e7d",
   "metadata": {},
   "source": [
    "## Question 12:\n",
    "\n",
    "### How do you perform a right join between two DataFrames in pandas?"
   ]
  },
  {
   "cell_type": "markdown",
   "id": "a752ad1e",
   "metadata": {},
   "source": [
    "## Question 13:\n",
    "\n",
    "### How do you concatenate two DataFrames vertically in pandas?"
   ]
  },
  {
   "cell_type": "markdown",
   "id": "dda2d090",
   "metadata": {},
   "source": [
    "## Question 14:\n",
    "\n",
    "### How do you concatenate two DataFrames horizontally in pandas?"
   ]
  },
  {
   "cell_type": "markdown",
   "id": "866e6770",
   "metadata": {},
   "source": [
    "## Question 15:\n",
    "\n",
    "### How do you group data in a DataFrame based on a column using the groupby function in pandas?"
   ]
  }
 ],
 "metadata": {
  "kernelspec": {
   "display_name": "Python 3 (ipykernel)",
   "language": "python",
   "name": "python3"
  },
  "language_info": {
   "codemirror_mode": {
    "name": "ipython",
    "version": 3
   },
   "file_extension": ".py",
   "mimetype": "text/x-python",
   "name": "python",
   "nbconvert_exporter": "python",
   "pygments_lexer": "ipython3",
   "version": "3.11.8"
  }
 },
 "nbformat": 4,
 "nbformat_minor": 5
}
