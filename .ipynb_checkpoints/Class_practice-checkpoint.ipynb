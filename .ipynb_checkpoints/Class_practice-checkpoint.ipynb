{
 "cells": [
  {
   "cell_type": "code",
   "execution_count": 4,
   "id": "03c58e9e-3f3a-4aad-a975-a3d57c47b5bd",
   "metadata": {},
   "outputs": [
    {
     "name": "stdout",
     "output_type": "stream",
     "text": [
      "['even ', 'even ', 'even ', 'even ']\n"
     ]
    }
   ],
   "source": [
    "numbers= [1,2,3,4,5,6,7,8]\n",
    "even_num= [\"even \" for x in numbers if x%2== 0 ]\n",
    "print(even_num)"
   ]
  },
  {
   "cell_type": "code",
   "execution_count": 7,
   "id": "83371f5f-2e85-4277-8496-f3540e171f8d",
   "metadata": {},
   "outputs": [
    {
     "name": "stdout",
     "output_type": "stream",
     "text": [
      "['odd', 'even', 'odd', 'even', 'odd', 'even', 'odd', 'even']\n"
     ]
    }
   ],
   "source": [
    "category = [\"even\" if x%2==0 else \"odd\" for x in numbers]\n",
    "print(category)"
   ]
  },
  {
   "cell_type": "code",
   "execution_count": 8,
   "id": "aab5a27f-1f36-49c5-9cba-10ce9a45c343",
   "metadata": {},
   "outputs": [
    {
     "name": "stdout",
     "output_type": "stream",
     "text": [
      "[(1, 'odd'), (2, 'even'), (3, 'odd'), (4, 'even'), (5, 'odd'), (6, 'even'), (7, 'odd'), (8, 'even')]\n"
     ]
    }
   ],
   "source": [
    "cat= [(x, \"even\") if x%2==0 else (x, \"odd\") for x in numbers]\n",
    "print(cat)"
   ]
  },
  {
   "cell_type": "code",
   "execution_count": null,
   "id": "1bc35049-1f35-4f97-b947-e1b6d0163223",
   "metadata": {},
   "outputs": [],
   "source": [
    "even_nm, odd_nm = list(filter(lambda x: x%2=0\n"
   ]
  },
  {
   "cell_type": "code",
   "execution_count": 11,
   "id": "0c9e8b34-74e0-4acd-8627-b3b8bc8dfe77",
   "metadata": {},
   "outputs": [
    {
     "name": "stdout",
     "output_type": "stream",
     "text": [
      "{'A': 1, 'B': 2, 'C,': 3}\n"
     ]
    }
   ],
   "source": [
    "Keys= ['A','B','C,']\n",
    "Values = [ 1,2,3]\n",
    "dict_ = {key:value for key, value in zip (Keys, Values)} \n",
    "print(dict_)"
   ]
  },
  {
   "cell_type": "code",
   "execution_count": 13,
   "id": "1bcfa480-0ceb-4dc9-8abc-075f77d67c74",
   "metadata": {},
   "outputs": [
    {
     "name": "stdout",
     "output_type": "stream",
     "text": [
      "[1, 4, 36, 9, 16, 25]\n"
     ]
    }
   ],
   "source": [
    "Numbers = [1,2,3,4,5,6]\n",
    "set_={x**2 for x in Numbers}\n",
    "print(set_)"
   ]
  },
  {
   "cell_type": "markdown",
   "id": "8c5b7f64-43be-4487-ace0-d4236a9fec24",
   "metadata": {},
   "source": [
    "## Modular Programming "
   ]
  },
  {
   "cell_type": "code",
   "execution_count": 20,
   "id": "d948aa0d-4ca1-4c22-9a09-9ce3c8ba3247",
   "metadata": {},
   "outputs": [],
   "source": [
    "from mymod import *"
   ]
  },
  {
   "cell_type": "code",
   "execution_count": 19,
   "id": "7da8153a-4e8c-4c37-9099-8e8555d87b6d",
   "metadata": {},
   "outputs": [
    {
     "data": {
      "text/plain": [
       "6"
      ]
     },
     "execution_count": 19,
     "metadata": {},
     "output_type": "execute_result"
    }
   ],
   "source": [
    "add(2,4)"
   ]
  },
  {
   "cell_type": "code",
   "execution_count": 21,
   "id": "d1356ecf-e603-4387-bd0a-0bfd023e55d1",
   "metadata": {},
   "outputs": [
    {
     "data": {
      "text/plain": [
       "-2"
      ]
     },
     "execution_count": 21,
     "metadata": {},
     "output_type": "execute_result"
    }
   ],
   "source": [
    "subt(2,4)"
   ]
  },
  {
   "cell_type": "markdown",
   "id": "387e4a5a-b9aa-4190-9760-b303da008329",
   "metadata": {},
   "source": [
    "## OBJECT programming "
   ]
  },
  {
   "cell_type": "code",
   "execution_count": 22,
   "id": "dbdff1c4-2264-467a-9309-e691bed8f2b9",
   "metadata": {},
   "outputs": [],
   "source": [
    "class Car:\n",
    "    def __init__(self, make, model, year): #this is called instructor\n",
    "        self.make = make\n",
    "        self.model = model\n",
    "        self.year = year\n",
    "\n",
    "    def display_info(self):\n",
    "        print(f\"{self.year} {self.make} {self.model}\")"
   ]
  },
  {
   "cell_type": "code",
   "execution_count": 24,
   "id": "23bade2d-369a-4b98-bdc6-dd3215fbe385",
   "metadata": {},
   "outputs": [
    {
     "name": "stdout",
     "output_type": "stream",
     "text": [
      "2024 Hyundia sonata\n"
     ]
    }
   ],
   "source": [
    "x= Car('Hyundia', 'sonata', 2024)\n",
    "x.display_info()"
   ]
  },
  {
   "cell_type": "markdown",
   "id": "d27e546f-6b46-4d11-b26a-3a3cb6647274",
   "metadata": {},
   "source": [
    "## Inheritance"
   ]
  },
  {
   "cell_type": "code",
   "execution_count": 40,
   "id": "2c234550-60a7-4d93-8306-1a0eae2a6120",
   "metadata": {},
   "outputs": [],
   "source": [
    "class swim:\n",
    "    def swimming(self):\n",
    "        print('swimming')\n",
    "class fly:\n",
    "    def flying(self):\n",
    "        print('flying')\n",
    "\n",
    "# class Duck:\n",
    " #   def swmming(self):\n",
    "   #     print('swimming')\n",
    "    # def flying(self):\n",
    "      #  print('flying') \n",
    "class Duck(swim, fly):\n",
    "    pass\n"
   ]
  },
  {
   "cell_type": "code",
   "execution_count": 41,
   "id": "bf566a50-8e24-4e8c-b34e-bbe75689321a",
   "metadata": {},
   "outputs": [],
   "source": [
    "x = Duck()"
   ]
  },
  {
   "cell_type": "code",
   "execution_count": 46,
   "id": "f6ee3d93-2903-49e0-8c54-4c32452e4849",
   "metadata": {},
   "outputs": [
    {
     "name": "stdout",
     "output_type": "stream",
     "text": [
      "swimming\n"
     ]
    }
   ],
   "source": [
    "x.swimming()"
   ]
  },
  {
   "cell_type": "markdown",
   "id": "55e61a6d-636d-490e-8c4f-992dcd102251",
   "metadata": {},
   "source": [
    "### Multilevel inheritance"
   ]
  },
  {
   "cell_type": "code",
   "execution_count": 52,
   "id": "2346346b-6cfe-403f-a5d3-3a5f90502db2",
   "metadata": {},
   "outputs": [],
   "source": [
    "class Animal:\n",
    "    def speak(self):\n",
    "        print('speaking')\n",
    "class Dog(Animal):\n",
    "    def barks(self):\n",
    "        print('Dog barks')\n",
    "  \n",
    "\n",
    "class puppy:\n",
    "    def barks(self):\n",
    "        print('Dog barkks')\n",
    "    def speak(self):\n",
    "        print('Speaking')\n",
    "    def play(self):\n",
    "        print('play')"
   ]
  },
  {
   "cell_type": "code",
   "execution_count": 53,
   "id": "3eb8f3c5-4136-452a-9ade-598f87d75c5c",
   "metadata": {},
   "outputs": [],
   "source": [
    "class papi(Dog):\n",
    "    def play(self):\n",
    "        print('play')\n",
    "    \n",
    "    "
   ]
  },
  {
   "cell_type": "code",
   "execution_count": 54,
   "id": "c32dd2cd-f630-406e-9769-46498a06276a",
   "metadata": {},
   "outputs": [],
   "source": [
    "x=papi()"
   ]
  },
  {
   "cell_type": "code",
   "execution_count": 55,
   "id": "e2b7b822-4614-4ebc-b641-50dbdba0afc5",
   "metadata": {},
   "outputs": [
    {
     "name": "stdout",
     "output_type": "stream",
     "text": [
      "speaking\n"
     ]
    }
   ],
   "source": [
    "x.speak()"
   ]
  },
  {
   "cell_type": "markdown",
   "id": "ba5083cb-22ff-4785-8425-12014486eee6",
   "metadata": {},
   "source": [
    "### Hirachical Inheritance "
   ]
  },
  {
   "cell_type": "code",
   "execution_count": 56,
   "id": "2294c216-9cda-4c87-93b5-c0c14dbe24b9",
   "metadata": {},
   "outputs": [],
   "source": [
    "class Animal:\n",
    "    def speak(self):\n",
    "        print(\"Animal speaks\")\n",
    "\n",
    "class Dog(Animal):\n",
    "    def bark(self):\n",
    "        print(\"Dog barks\")\n",
    "\n",
    "class Cat(Animal):\n",
    "    def meow(self):\n",
    "        print(\"Cat meows\")"
   ]
  },
  {
   "cell_type": "code",
   "execution_count": 59,
   "id": "a187172a-41c4-48a1-9b85-459b6216195f",
   "metadata": {},
   "outputs": [],
   "source": [
    "class myclass:\n",
    "    def __init__(self, x):\n",
    "        self.__x=x\n"
   ]
  },
  {
   "cell_type": "markdown",
   "id": "7568c149-0223-455f-8e45-477e5dfec999",
   "metadata": {},
   "source": [
    "## Encapsulation"
   ]
  },
  {
   "cell_type": "code",
   "execution_count": 60,
   "id": "d9ca05c4-3d86-4fd0-9948-cbead91b6287",
   "metadata": {},
   "outputs": [],
   "source": [
    "class Car:\n",
    "    def __init__(self, make, model):\n",
    "        self._make = make\n",
    "        self._model = model\n",
    "\n",
    "    def get_make(self):\n",
    "        return self._make\n",
    "\n",
    "    def set_make(self, make):\n",
    "        self._make = make\n",
    "\n",
    "    def get_model(self):\n",
    "        return self._model\n",
    "\n",
    "    def set_model(self, model):\n",
    "        self._model = model"
   ]
  },
  {
   "cell_type": "code",
   "execution_count": 65,
   "id": "f380ec7a-6738-4c66-942a-fabe9cfe3f6c",
   "metadata": {},
   "outputs": [
    {
     "data": {
      "text/plain": [
       "'Honda'"
      ]
     },
     "execution_count": 65,
     "metadata": {},
     "output_type": "execute_result"
    }
   ],
   "source": [
    "x= Car('Toyta','corolla')\n",
    "x.set_make('Honda')\n",
    "x.get_make()"
   ]
  },
  {
   "cell_type": "code",
   "execution_count": 94,
   "id": "18931ceb-06a7-428e-81e5-4038ee330331",
   "metadata": {},
   "outputs": [],
   "source": [
    "class BankAccount:\n",
    "    def __init__(self, account_number, initial_balance):\n",
    "        self.__account_number = account_number  # Private attribute\n",
    "        self.__balance = initial_balance  # Private attribute\n",
    "\n",
    "    def deposit(self, amount):\n",
    "        if amount > 0:\n",
    "            self.__balance += amount\n",
    "\n",
    "    def withdraw(self, amount):\n",
    "        if 0 < amount <= self.__balance:\n",
    "            self.__balance -= amount\n",
    "            print('Withdraw success,  Balance: ',  get_balance()) \n",
    "            \n",
    "        else:\n",
    "            print(\"Insufficient funds\")\n",
    "\n",
    "    def get_balance(self):\n",
    "        return self.__balance"
   ]
  },
  {
   "cell_type": "code",
   "execution_count": 89,
   "id": "e5cf8f9c-063b-4a1d-9247-2705a4459337",
   "metadata": {},
   "outputs": [],
   "source": [
    "account = BankAccount(\"123456\", 1000)"
   ]
  },
  {
   "cell_type": "code",
   "execution_count": 82,
   "id": "f5337b21-6f57-4273-8ce2-1f5cbaa81b2a",
   "metadata": {},
   "outputs": [
    {
     "name": "stdout",
     "output_type": "stream",
     "text": [
      "Initial Balance: 1000\n"
     ]
    }
   ],
   "source": [
    "print(\"Initial Balance:\", account.get_balance())"
   ]
  },
  {
   "cell_type": "code",
   "execution_count": 95,
   "id": "43151863-9582-46ea-b2db-7bef88742da0",
   "metadata": {},
   "outputs": [
    {
     "name": "stdout",
     "output_type": "stream",
     "text": [
      "Withdraw success, \n",
      " Balance: \n"
     ]
    },
    {
     "data": {
      "text/plain": [
       "400"
      ]
     },
     "execution_count": 95,
     "metadata": {},
     "output_type": "execute_result"
    }
   ],
   "source": [
    "account.withdraw(200)"
   ]
  },
  {
   "cell_type": "code",
   "execution_count": null,
   "id": "7d1859ac-c0e2-4386-8dfd-2afb83da61aa",
   "metadata": {},
   "outputs": [],
   "source": []
  }
 ],
 "metadata": {
  "kernelspec": {
   "display_name": "Python 3 (ipykernel)",
   "language": "python",
   "name": "python3"
  },
  "language_info": {
   "codemirror_mode": {
    "name": "ipython",
    "version": 3
   },
   "file_extension": ".py",
   "mimetype": "text/x-python",
   "name": "python",
   "nbconvert_exporter": "python",
   "pygments_lexer": "ipython3",
   "version": "3.11.8"
  }
 },
 "nbformat": 4,
 "nbformat_minor": 5
}
