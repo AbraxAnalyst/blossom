{
 "cells": [
  {
   "cell_type": "markdown",
   "id": "b4c75728",
   "metadata": {},
   "source": [
    "# Modular Programming"
   ]
  },
  {
   "cell_type": "markdown",
   "id": "4a8eb15e",
   "metadata": {},
   "source": [
    "## Modules\n",
    "\n",
    " Modules are files containing Python code that define functions, classes, and variables. They help organize and reuse code across multiple file\n",
    " \n",
    "**Creating a Module:**  \n",
    "Write Python code in a .py file (e.g., my_module.py).  \n",
    "Using a Module:\n",
    "#### Import the module using the import statement.\n",
    "#### Access functions and variables using dot notation (module_name.function_name()).\n",
    "\n"
   ]
  },
  {
   "cell_type": "code",
   "execution_count": 1,
   "id": "9074f1c0",
   "metadata": {},
   "outputs": [
    {
     "name": "stdout",
     "output_type": "stream",
     "text": [
      "5\n"
     ]
    }
   ],
   "source": [
    "from mymodule import subtract\n",
    "\n",
    "result = subtract(10, 5)\n",
    "print(result)  # Output: 5\n"
   ]
  },
  {
   "cell_type": "code",
   "execution_count": 2,
   "id": "b3a65cab",
   "metadata": {},
   "outputs": [
    {
     "name": "stdout",
     "output_type": "stream",
     "text": [
      "8\n"
     ]
    }
   ],
   "source": [
    "import my_module\n",
    "\n",
    "result = my_module.add(5, 3)\n",
    "print(result)  # Output: 8\n"
   ]
  },
  {
   "cell_type": "markdown",
   "id": "178b286e",
   "metadata": {},
   "source": [
    "## Importing with Aliases\n",
    "\n",
    "#### You can import modules or functions with aliases to simplify their usage or avoid naming conflicts.\n",
    "\n",
    "### Syntax:\n",
    "\n",
    "#### import module_name as alias\n",
    "\n"
   ]
  },
  {
   "cell_type": "code",
   "execution_count": 3,
   "id": "ba308665",
   "metadata": {},
   "outputs": [
    {
     "name": "stdout",
     "output_type": "stream",
     "text": [
      "9\n"
     ]
    }
   ],
   "source": [
    "import my_module as mm\n",
    "\n",
    "result = mm.add(7, 2)\n",
    "print(result)  # Output: 9\n",
    "\n"
   ]
  },
  {
   "cell_type": "markdown",
   "id": "6506fb70",
   "metadata": {},
   "source": [
    "# Object Oriented Programming"
   ]
  },
  {
   "cell_type": "markdown",
   "id": "d258d884",
   "metadata": {},
   "source": [
    "### Classes\n",
    "\n",
    "#### a class is a blueprint for creating objects (instances). It defines the properties (attributes) and behaviors (methods) that all objects of that class will have.\n",
    "#### Syntax:\n",
    "#### class ClassName:\n",
    "    # Class variables and methods\n",
    "####    pass\n",
    "\n",
    "### Attributes\n",
    "\n",
    "#### Attributes are data items that belong to a specific instance of a class. They represent the state of an object.\n",
    "#### Syntax: \n",
    "#### Attributes are defined within methods using the self keyword.\n",
    "\n",
    "#### class MyClass:\n",
    "        def __init__(self, attribute1, attribute2):\n",
    "            self.attribute1 = attribute1\n",
    "            self.attribute2 = attribute2\n"
   ]
  },
  {
   "cell_type": "markdown",
   "id": "c4a970bc",
   "metadata": {},
   "source": [
    "### Methods\n",
    "\n",
    "#### Methods are functions defined within a class. They define the behavior of the objects of that class.\n",
    "\n",
    "#### Syntax: \n",
    "#### Methods are defined just like regular functions, but they must include self as the first parameter.\n",
    "\n",
    "#### class MyClass:\n",
    "        def my_method(self):\n",
    "        # Method body\n",
    "            pass\n",
    "        \n",
    "### Constructor (__init__ method)\n",
    "\n",
    "#### The __init__ method is a special method called when an object of the class is created. It initializes the object's attributes.\n",
    "\n",
    "\n",
    "#### Objects (instances) are specific instances of a class. They are created using the class as a template.\n",
    "#### Syntax: Objects are created by calling the class name followed by parentheses (optionally passing any required arguments).\n",
    "#### Example:\n",
    "    # Creating an object of MyClass\n",
    "#### obj = MyClass()\n",
    "\n"
   ]
  },
  {
   "cell_type": "code",
   "execution_count": 4,
   "id": "8edd69b0",
   "metadata": {},
   "outputs": [
    {
     "name": "stdout",
     "output_type": "stream",
     "text": [
      "2022 Toyota Corolla\n",
      "2021 Honda Civic\n"
     ]
    }
   ],
   "source": [
    "# Public\n",
    "class Car:\n",
    "    def __init__(self, make, model, year):\n",
    "        self.make = make\n",
    "        self.model = model\n",
    "        self.year = year\n",
    "\n",
    "    def display_info(self):\n",
    "        print(f\"{self.year} {self.make} {self.model}\")\n",
    "\n",
    "# Creating objects of the Car class\n",
    "car1 = Car(\"Toyota\", \"Corolla\", 2022)\n",
    "car2 = Car(\"Honda\", \"Civic\", 2021)\n",
    "\n",
    "# Accessing attributes and calling methods\n",
    "car1.display_info()  # Output: 2022 Toyota Corolla\n",
    "car2.display_info()  # Output: 2021 Honda Civic\n"
   ]
  },
  {
   "cell_type": "markdown",
   "id": "084e0797",
   "metadata": {},
   "source": [
    "### Instance Variables vs. Class Variables\n",
    "#### Instance variables are unique to each instance of a class, while class variables are shared among all instances of the class.\n",
    "#### Syntax: \n",
    "#### Instance variables are defined using self within methods, while class variables are defined outside of any method.\n",
    "#### python\n",
    "\n",
    "#### class MyClass:\n",
    "####    class_variable = \"shared among all instances\"\n",
    "    \n",
    "        def __init__(self, instance_variable):\n",
    "            self.instance_variable = instance_variable\n"
   ]
  },
  {
   "cell_type": "markdown",
   "id": "cf1fb5eb",
   "metadata": {},
   "source": [
    "### Inheritance:\n",
    "#### Inheritance allows a class to inherit attributes and methods from another class. The class that inherits is called a subclass, and the class that is inherited from is called a superclass or parent class.\n",
    "#### There are different types of inheritance in Python, including single inheritance, multiple inheritance, multilevel inheritance, and hierarchical inheritance.\n"
   ]
  },
  {
   "cell_type": "markdown",
   "id": "51e8b180",
   "metadata": {},
   "source": [
    "### Single Inheritance:\n",
    "#### Single inheritance is when a class inherits from only one superclass."
   ]
  },
  {
   "cell_type": "code",
   "execution_count": 5,
   "id": "df1a3d2c",
   "metadata": {},
   "outputs": [
    {
     "name": "stdout",
     "output_type": "stream",
     "text": [
      "Animal speaks\n",
      "Dog barks\n"
     ]
    }
   ],
   "source": [
    "class Animal:\n",
    "    def speak(self):\n",
    "        print(\"Animal speaks\")\n",
    "\n",
    "class Dog(Animal):\n",
    "    def bark(self):\n",
    "        print(\"Dog barks\")\n",
    "\n",
    "# Creating an object of the Dog class\n",
    "dog = Dog()\n",
    "\n",
    "# Accessing methods from superclass\n",
    "dog.speak()  # Output: Animal speaks\n",
    "\n",
    "# Accessing methods from subclass\n",
    "dog.bark()   # Output: Dog barks\n"
   ]
  },
  {
   "cell_type": "markdown",
   "id": "41d85276",
   "metadata": {},
   "source": [
    "### Multiple Inheritance:\n",
    "#### Multiple inheritance is when a class inherits from more than one superclass."
   ]
  },
  {
   "cell_type": "code",
   "execution_count": 6,
   "id": "019de4ab",
   "metadata": {},
   "outputs": [
    {
     "name": "stdout",
     "output_type": "stream",
     "text": [
      "Swimming\n",
      "Flying\n"
     ]
    }
   ],
   "source": [
    "class Swim:\n",
    "    def swim(self):\n",
    "        print(\"Swimming\")\n",
    "\n",
    "class Fly:\n",
    "    def fly(self):\n",
    "        print(\"Flying\")\n",
    "\n",
    "class Duck(Swim, Fly):\n",
    "    pass\n",
    "\n",
    "# Creating an object of the Duck class\n",
    "duck = Duck()\n",
    "\n",
    "# Accessing methods from both superclasses\n",
    "duck.swim()  # Output: Swimming\n",
    "duck.fly()   # Output: Flying\n",
    " "
   ]
  },
  {
   "cell_type": "markdown",
   "id": "d92bfc9c",
   "metadata": {},
   "source": [
    "### Multilevel Inheritance:\n",
    "#### Multilevel inheritance is when a class inherits from a superclass, and then another class inherits from that subclass."
   ]
  },
  {
   "cell_type": "code",
   "execution_count": 7,
   "id": "c1c9d5d2",
   "metadata": {},
   "outputs": [
    {
     "name": "stdout",
     "output_type": "stream",
     "text": [
      "Animal speaks\n",
      "Dog barks\n",
      "Puppy plays\n"
     ]
    }
   ],
   "source": [
    "class Animal:\n",
    "    def speak(self):\n",
    "        print(\"Animal speaks\")\n",
    "\n",
    "class Dog(Animal):\n",
    "    def bark(self):\n",
    "        print(\"Dog barks\")\n",
    "\n",
    "class Puppy(Dog):\n",
    "    def play(self):\n",
    "        print(\"Puppy plays\")\n",
    "\n",
    "# Creating an object of the Puppy class\n",
    "puppy = Puppy()\n",
    "\n",
    "# Accessing methods from superclass\n",
    "puppy.speak()  # Output: Animal speaks\n",
    "\n",
    "# Accessing methods from intermediate subclass\n",
    "puppy.bark()   # Output: Dog barks\n",
    "\n",
    "# Accessing methods from subclass\n",
    "puppy.play()   # Output: Puppy plays\n"
   ]
  },
  {
   "cell_type": "markdown",
   "id": "63e1975b",
   "metadata": {},
   "source": [
    "### Hierarchical Inheritance:\n",
    "#### Hierarchical inheritance is when more than one subclass inherits from the same superclass."
   ]
  },
  {
   "cell_type": "code",
   "execution_count": 8,
   "id": "0283a6fc",
   "metadata": {},
   "outputs": [
    {
     "name": "stdout",
     "output_type": "stream",
     "text": [
      "Animal speaks\n",
      "Animal speaks\n",
      "Dog barks\n",
      "Cat meows\n"
     ]
    }
   ],
   "source": [
    "class Animal:\n",
    "    def speak(self):\n",
    "        print(\"Animal speaks\")\n",
    "\n",
    "class Dog(Animal):\n",
    "    def bark(self):\n",
    "        print(\"Dog barks\")\n",
    "\n",
    "class Cat(Animal):\n",
    "    def meow(self):\n",
    "        print(\"Cat meows\")\n",
    "\n",
    "# Creating objects of Dog and Cat classes\n",
    "dog = Dog()\n",
    "cat = Cat()\n",
    "\n",
    "# Accessing methods from superclass\n",
    "dog.speak()  # Output: Animal speaks\n",
    "cat.speak()  # Output: Animal speaks\n",
    "\n",
    "# Accessing methods from respective subclasses\n",
    "dog.bark()   # Output: Dog barks\n",
    "cat.meow()   # Output: Cat meows\n"
   ]
  },
  {
   "cell_type": "markdown",
   "id": "1d3e1ff7",
   "metadata": {},
   "source": [
    "### In Python, naming conventions are used to indicate the accessibility of attributes and methods. Here are the conventions:\n",
    "\n",
    "#### Public: Attributes and methods without any leading underscores are considered public and can be accessed from outside the class.\n",
    "#### Protected: Attributes and methods with a single leading underscore are considered protected and can still be accessed from outside the class, but it's a signal to other developers that they should not be accessed directly.\n",
    "#### Private: Attributes and methods with double leading underscores are considered private and should not be accessed from outside the class. Attempting to access them directly will raise an AttributeError."
   ]
  },
  {
   "cell_type": "code",
   "execution_count": 9,
   "id": "85ed8842",
   "metadata": {},
   "outputs": [
    {
     "name": "stdout",
     "output_type": "stream",
     "text": [
      "Public\n"
     ]
    }
   ],
   "source": [
    "#Public\n",
    "class MyClass:\n",
    "    def __init__(self, name):\n",
    "        self.name = name  # Public attribute\n",
    "\n",
    "obj = MyClass(\"Public\")\n",
    "print(obj.name)  # Accessible from outside the class\n"
   ]
  },
  {
   "cell_type": "code",
   "execution_count": 10,
   "id": "4cb1e874",
   "metadata": {},
   "outputs": [
    {
     "name": "stdout",
     "output_type": "stream",
     "text": [
      "Protected\n"
     ]
    }
   ],
   "source": [
    "#Protected\n",
    "class MyClass:\n",
    "    def __init__(self, name):\n",
    "        self._name = name  # Protected attribute\n",
    "\n",
    "obj = MyClass(\"Protected\")\n",
    "print(obj._name)  # Still accessible from outside the class, but should be used cautiously\n"
   ]
  },
  {
   "cell_type": "code",
   "execution_count": 11,
   "id": "0f4b64fd",
   "metadata": {},
   "outputs": [],
   "source": [
    "#Protected\n",
    "class MyClass:\n",
    "    def __init__(self, name):\n",
    "        self.__name = name  # Private attribute\n",
    "\n",
    "obj = MyClass(\"Private\")\n",
    "# Attempting to access a private attribute will raise an AttributeError\n",
    "#print(obj.__name)\n"
   ]
  },
  {
   "cell_type": "markdown",
   "id": "2f5c521d",
   "metadata": {},
   "source": [
    "### Encapsulation:\n",
    "#### Encapsulation is the process of bundling data (attributes) and methods (functions) that operate on the data into a single unit, which prevents the accidental modification of data from outside the class. \n",
    "#### It allows for better control over data by hiding implementation details."
   ]
  },
  {
   "cell_type": "markdown",
   "id": "e29abe0c",
   "metadata": {},
   "source": [
    "### Encapsulation with Getter and Setter Methods\n",
    "#### Encapsulation often involves using getter and setter methods to control access to attributes, providing a layer of abstraction over data manipulation."
   ]
  },
  {
   "cell_type": "code",
   "execution_count": 12,
   "id": "5b226866",
   "metadata": {},
   "outputs": [
    {
     "name": "stdout",
     "output_type": "stream",
     "text": [
      "Make: Toyota\n",
      "Model: Corolla\n",
      "Updated Make: Honda\n",
      "Updated Model: Civic\n"
     ]
    }
   ],
   "source": [
    "class Car:\n",
    "    def __init__(self, make, model):\n",
    "        self._make = make\n",
    "        self._model = model\n",
    "\n",
    "    def get_make(self):\n",
    "        return self._make\n",
    "\n",
    "    def set_make(self, make):\n",
    "        self._make = make\n",
    "\n",
    "    def get_model(self):\n",
    "        return self._model\n",
    "\n",
    "    def set_model(self, model):\n",
    "        self._model = model\n",
    "\n",
    "# Creating an object of the Car class\n",
    "car = Car(\"Toyota\", \"Corolla\")\n",
    "\n",
    "# Accessing attributes using getter methods\n",
    "print(\"Make:\", car.get_make())  # Output: Make: Toyota\n",
    "print(\"Model:\", car.get_model())  # Output: Model: Corolla\n",
    "\n",
    "# Modifying attributes using setter methods\n",
    "car.set_make(\"Honda\")\n",
    "car.set_model(\"Civic\")\n",
    "\n",
    "print(\"Updated Make:\", car.get_make())  # Output: Updated Make: Honda\n",
    "print(\"Updated Model:\", car.get_model())  # Output: Updated Model: Civic\n"
   ]
  },
  {
   "cell_type": "markdown",
   "id": "53d46a36",
   "metadata": {},
   "source": [
    "### Encapsulation with Private Attributes\n",
    "#### In Python, we can simulate private attributes by name mangling (adding double underscores __ before the attribute name)."
   ]
  },
  {
   "cell_type": "code",
   "execution_count": 13,
   "id": "f71918c3",
   "metadata": {},
   "outputs": [
    {
     "name": "stdout",
     "output_type": "stream",
     "text": [
      "Initial Balance: 1000\n",
      "Balance after deposit: 1500\n",
      "Insufficient funds\n"
     ]
    }
   ],
   "source": [
    "class BankAccount:\n",
    "    def __init__(self, account_number, initial_balance):\n",
    "        self.__account_number = account_number  # Private attribute\n",
    "        self.__balance = initial_balance  # Private attribute\n",
    "\n",
    "    def deposit(self, amount):\n",
    "        if amount > 0:\n",
    "            self.__balance += amount\n",
    "\n",
    "    def withdraw(self, amount):\n",
    "        if 0 < amount <= self.__balance:\n",
    "            self.__balance -= amount\n",
    "        else:\n",
    "            print(\"Insufficient funds\")\n",
    "\n",
    "    def get_balance(self):\n",
    "        return self.__balance\n",
    "\n",
    "# Creating an object of the BankAccount class\n",
    "account = BankAccount(\"123456\", 1000)\n",
    "\n",
    "# Accessing and modifying private attributes (through methods)\n",
    "print(\"Initial Balance:\", account.get_balance())  # Output: Initial Balance: 1000\n",
    "\n",
    "account.deposit(500)\n",
    "print(\"Balance after deposit:\", account.get_balance())  # Output: Balance after deposit: 1500\n",
    "\n",
    "account.withdraw(2000)  # Output: Insufficient funds\n"
   ]
  },
  {
   "cell_type": "markdown",
   "id": "9e4a1797",
   "metadata": {},
   "source": [
    "### Method Overriding\n",
    "#### Method overriding is a feature of object-oriented programming that allows a subclass to provide a specific implementation of a method that is already defined in its superclass. \n",
    "##### When a method in a subclass has the same name and parameters as a method in its superclass, it overrides the superclass method."
   ]
  },
  {
   "cell_type": "code",
   "execution_count": 14,
   "id": "b9d65992",
   "metadata": {},
   "outputs": [
    {
     "name": "stdout",
     "output_type": "stream",
     "text": [
      "Animal speaks\n",
      "Dog barks\n"
     ]
    }
   ],
   "source": [
    "class Animal:\n",
    "    def speak(self):\n",
    "        return \"Animal speaks\"\n",
    "\n",
    "class Dog(Animal):\n",
    "    def speak(self):\n",
    "        return \"Dog barks\"\n",
    "\n",
    "# Creating objects of both classes\n",
    "animal = Animal()\n",
    "dog = Dog()\n",
    "\n",
    "# Calling the speak() method on objects\n",
    "print(animal.speak())  # Output: Animal speaks\n",
    "print(dog.speak())     # Output: Dog barks\n"
   ]
  },
  {
   "cell_type": "markdown",
   "id": "aa82cc8a",
   "metadata": {},
   "source": [
    "### Polymorphism\n",
    "#### Polymorphism allows objects of different classes to be treated as objects of a common superclass. \n",
    "#### This enables flexibility in code design and promotes reusability. "
   ]
  },
  {
   "cell_type": "code",
   "execution_count": 15,
   "id": "408be5de",
   "metadata": {},
   "outputs": [
    {
     "name": "stdout",
     "output_type": "stream",
     "text": [
      "Dog barks\n",
      "Cat meows\n"
     ]
    }
   ],
   "source": [
    "#Polymorphism with Method Overriding\n",
    "class Animal:\n",
    "    def speak(self):\n",
    "        return \"Animal speaks\"\n",
    "\n",
    "class Dog(Animal):\n",
    "    def speak(self):\n",
    "        return \"Dog barks\"\n",
    "\n",
    "class Cat(Animal):\n",
    "    def speak(self):\n",
    "        return \"Cat meows\"\n",
    "\n",
    "# Creating a list of animals\n",
    "animals = [Dog(), Cat()]\n",
    "\n",
    "# Polymorphic behavior: calling the same method on different objects\n",
    "for animal in animals:\n",
    "    print(animal.speak())\n"
   ]
  },
  {
   "cell_type": "code",
   "execution_count": 16,
   "id": "8b9061e5",
   "metadata": {},
   "outputs": [
    {
     "name": "stdout",
     "output_type": "stream",
     "text": [
      "Meow\n",
      "Quack\n"
     ]
    }
   ],
   "source": [
    "#Polymorphism with Duck Typing\n",
    "class Cat:\n",
    "    def sound(self):\n",
    "        return \"Meow\"\n",
    "\n",
    "class Duck:\n",
    "    def sound(self):\n",
    "        return \"Quack\"\n",
    "\n",
    "def make_sound(animal):\n",
    "    return animal.sound()\n",
    "\n",
    "# Polymorphic behavior: objects of different classes can be passed to make_sound\n",
    "cat = Cat()\n",
    "duck = Duck()\n",
    "\n",
    "print(make_sound(cat))   # Output: Meow\n",
    "print(make_sound(duck))  # Output: Quack\n"
   ]
  },
  {
   "cell_type": "markdown",
   "id": "5904656a",
   "metadata": {},
   "source": [
    "### Abstraction:\n",
    "#### Abstraction is the process of hiding the complex implementation details and showing only the essential features of an object. \n",
    "#### It allows for better management of complexity by focusing on what an object does rather than how it does it."
   ]
  },
  {
   "cell_type": "markdown",
   "id": "1cba2733",
   "metadata": {},
   "source": [
    "### Abstract Classes:\n",
    "#### Abstract classes are classes that cannot be instantiated and typically contain one or more abstract methods. \n",
    "#### Abstract methods are methods declared in the abstract class but have no implementation. \n",
    "#### Instead, they must be implemented by concrete subclasses.\n",
    "\n"
   ]
  },
  {
   "cell_type": "code",
   "execution_count": 17,
   "id": "501de75c",
   "metadata": {},
   "outputs": [
    {
     "name": "stdout",
     "output_type": "stream",
     "text": [
      "Rectangle:\n",
      "Area: 20\n",
      "Perimeter: 18\n",
      "\n",
      "Circle:\n",
      "Area: 28.26\n",
      "Perimeter: 18.84\n"
     ]
    }
   ],
   "source": [
    "from abc import ABC, abstractmethod\n",
    "\n",
    "class Shape(ABC):\n",
    "    @abstractmethod\n",
    "    def area(self):\n",
    "        pass\n",
    "\n",
    "    @abstractmethod\n",
    "    def perimeter(self):\n",
    "        pass\n",
    "\n",
    "class Rectangle(Shape):\n",
    "    def __init__(self, length, width):\n",
    "        self.length = length\n",
    "        self.width = width\n",
    "\n",
    "    def area(self):\n",
    "        return self.length * self.width\n",
    "\n",
    "    def perimeter(self):\n",
    "        return 2 * (self.length + self.width)\n",
    "\n",
    "class Circle(Shape):\n",
    "    def __init__(self, radius):\n",
    "        self.radius = radius\n",
    "\n",
    "    def area(self):\n",
    "        return 3.14 * self.radius ** 2\n",
    "\n",
    "    def perimeter(self):\n",
    "        return 2 * 3.14 * self.radius\n",
    "\n",
    "# Creating objects of concrete subclasses\n",
    "rectangle = Rectangle(5, 4)\n",
    "circle = Circle(3)\n",
    "\n",
    "# Calling area and perimeter methods\n",
    "print(\"Rectangle:\")\n",
    "print(\"Area:\", rectangle.area())         # Output: 20\n",
    "print(\"Perimeter:\", rectangle.perimeter())   # Output: 18\n",
    "\n",
    "print(\"\\nCircle:\")\n",
    "print(\"Area:\", circle.area())            # Output: 28.26\n",
    "print(\"Perimeter:\", circle.perimeter())      # Output: 18.84\n"
   ]
  },
  {
   "cell_type": "markdown",
   "id": "d472c064",
   "metadata": {},
   "source": [
    "### Super() Function\n",
    "\n",
    "#### The super() function allows access to methods and properties of a superclass from a subclass. It is commonly used to call the superclass constructor or methods.\n"
   ]
  },
  {
   "cell_type": "code",
   "execution_count": 18,
   "id": "48f2c9c6",
   "metadata": {},
   "outputs": [
    {
     "name": "stdout",
     "output_type": "stream",
     "text": [
      "John\n",
      "10\n"
     ]
    }
   ],
   "source": [
    "#Calling Superclass Constructor:\n",
    "class Parent:\n",
    "    def __init__(self, name):\n",
    "        self.name = name\n",
    "\n",
    "class Child(Parent):\n",
    "    def __init__(self, name, age):\n",
    "        super().__init__(name)\n",
    "        self.age = age\n",
    "\n",
    "# Creating an object of the Child class\n",
    "child = Child(\"John\", 10)\n",
    "\n",
    "print(child.name)  # Output: John\n",
    "print(child.age)   # Output: 10\n"
   ]
  },
  {
   "cell_type": "code",
   "execution_count": 19,
   "id": "68497658",
   "metadata": {},
   "outputs": [
    {
     "name": "stdout",
     "output_type": "stream",
     "text": [
      "Hello from Parent - Hello from Child\n"
     ]
    }
   ],
   "source": [
    "#Calling Superclass Method:\n",
    "class Parent:\n",
    "    def greet(self):\n",
    "        return \"Hello from Parent\"\n",
    "\n",
    "class Child(Parent):\n",
    "    def greet(self):\n",
    "        return super().greet() + \" - Hello from Child\"\n",
    "\n",
    "# Creating an object of the Child class\n",
    "child = Child()\n",
    "\n",
    "print(child.greet())  # Output: Hello from Parent - Hello from Child\n",
    "   "
   ]
  },
  {
   "cell_type": "code",
   "execution_count": 20,
   "id": "fca8f358",
   "metadata": {},
   "outputs": [
    {
     "name": "stdout",
     "output_type": "stream",
     "text": [
      "Hello from A - Hello from C - Hello from B - Hello from D\n"
     ]
    }
   ],
   "source": [
    "#Using super() with Methods in Multiple Inheritance:\n",
    "class A:\n",
    "    def greet(self):\n",
    "        return \"Hello from A\"\n",
    "\n",
    "class B(A):\n",
    "    def greet(self):\n",
    "        return super().greet() + \" - Hello from B\"\n",
    "\n",
    "class C(A):\n",
    "    def greet(self):\n",
    "        return super().greet() + \" - Hello from C\"\n",
    "\n",
    "class D(B, C):\n",
    "    def greet(self):\n",
    "        return super().greet() + \" - Hello from D\"\n",
    "\n",
    "# Creating an object of the D class\n",
    "d = D()\n",
    "\n",
    "print(d.greet())\n",
    "\n",
    "# Output:\n",
    "# Hello from A - Hello from C - Hello from B - Hello from D\n"
   ]
  },
  {
   "cell_type": "markdown",
   "id": "a6d5b866",
   "metadata": {},
   "source": [
    "### Static Methods:\n",
    "#### Static methods in Python are methods that belong to a class rather than an instance of the class. \n",
    "#### They do not operate on instances and do not have access to instance variables. \n",
    "#### Instead, they are used to define methods that are relevant to the class as a whole, rather than to instances of the class."
   ]
  },
  {
   "cell_type": "code",
   "execution_count": 21,
   "id": "c7ce33e6",
   "metadata": {},
   "outputs": [
    {
     "name": "stdout",
     "output_type": "stream",
     "text": [
      "Normal method called with x = 5\n",
      "Static method called\n",
      "Normal method called with x = 5\n",
      "Static method called\n"
     ]
    }
   ],
   "source": [
    "class MyClass:\n",
    "    def __init__(self, x):\n",
    "        self.x = x\n",
    "\n",
    "    def normal_method(self):\n",
    "        return f\"Normal method called with x = {self.x}\"\n",
    "\n",
    "    @staticmethod\n",
    "    def static_method():\n",
    "        return \"Static method called\"\n",
    "\n",
    "# Creating an instance of the class\n",
    "obj = MyClass(5)\n",
    "\n",
    "# Calling the normal method on the instance\n",
    "print(obj.normal_method())  # Output: Normal method called with x = 5\n",
    "\n",
    "# Calling the static method on the instance\n",
    "print(obj.static_method())  # Output: Static method called\n",
    "\n",
    "# Calling the normal method directly on the class\n",
    "print(MyClass.normal_method(obj))  # Output: Normal method called with x = 5\n",
    "\n",
    "# Calling the static method directly on the class\n",
    "print(MyClass.static_method())  # Output: Static method called\n"
   ]
  },
  {
   "cell_type": "code",
   "execution_count": 22,
   "id": "3026b175",
   "metadata": {},
   "outputs": [
    {
     "name": "stdout",
     "output_type": "stream",
     "text": [
      "21\n"
     ]
    }
   ],
   "source": [
    "class emma(MyClass):\n",
    "    a = 4\n",
    "    def __init__(self, x, y):\n",
    "        super().__init__(x)\n",
    "        self.y = y\n",
    "\n",
    "    def normal_method(self):\n",
    "        return emma.a * self.x + self.y  # Access class attribute a with emma.a\n",
    "\n",
    "    @staticmethod\n",
    "    def static_method():\n",
    "        return emma.a * self.y + self.x  # Access class attribute a with emma.a\n",
    "\n",
    "obj1 = emma(4, 5)\n",
    "print(obj1.normal_method())  # Output: 21\n",
    "#print(obj1.static_method()) "
   ]
  },
  {
   "cell_type": "markdown",
   "id": "2c7a82b5",
   "metadata": {},
   "source": [
    "# File I/O: Reading and writing files\n"
   ]
  },
  {
   "cell_type": "markdown",
   "id": "b6ee89c1",
   "metadata": {},
   "source": [
    "## Opening a File\n",
    "\n",
    "#### Before reading from or writing to a file, you need to open it using the open() function. You specify the file name and mode (e.g., read, write, append).\n",
    "### Syntax:\n",
    "#### file = open(\"filename.txt\", mode)\n",
    "\n",
    "## Reading from a File\n",
    "\n",
    "#### You can read the contents of a file using various methods provided by file objects, such as read(), readline(), or readlines().\n",
    "### Syntax:\n",
    "### Read entire file\n",
    "#### content = file.read()\n",
    "\n",
    "### Read one line at a time\n",
    "#### line = file.readline()\n",
    "\n",
    "### Read all lines into a list\n",
    "#### lines = file.readlines()\n"
   ]
  },
  {
   "cell_type": "code",
   "execution_count": 23,
   "id": "7b8206b3",
   "metadata": {},
   "outputs": [
    {
     "name": "stdout",
     "output_type": "stream",
     "text": [
      "Hello, world!\n",
      "This is a text file.\n",
      "\n"
     ]
    }
   ],
   "source": [
    "# Open the file in read mode\n",
    "file = open(\"example.txt\", \"r\")\n",
    "\n",
    "# Read the entire content of the file\n",
    "content = file.read()\n",
    "\n",
    "# Close the file\n",
    "file.close()\n",
    "\n",
    "# Print the content\n",
    "print(content)\n"
   ]
  },
  {
   "cell_type": "code",
   "execution_count": 24,
   "id": "fcba4f58",
   "metadata": {},
   "outputs": [
    {
     "name": "stdout",
     "output_type": "stream",
     "text": [
      "Hello, world!\n",
      "\n"
     ]
    }
   ],
   "source": [
    "# Open the file in read mode\n",
    "file = open(\"example.txt\", \"r\")\n",
    "\n",
    "# Read one line from the file\n",
    "line = file.readline()\n",
    "\n",
    "# Close the file\n",
    "file.close()\n",
    "\n",
    "# Print the line\n",
    "print(line)\n"
   ]
  },
  {
   "cell_type": "markdown",
   "id": "82489d40",
   "metadata": {},
   "source": [
    "## Writing to a File\n",
    "\n",
    "#### You can write data to a file using the write() method of file objects. If the file does not exist, it will be created.\n",
    "### Syntax:\n",
    "#### file.write(\"content to write\")\n",
    "\n",
    "## Closing a File\n",
    "\n",
    "#### After reading from or writing to a file, it's important to close it using the close() method. This releases any system resources associated with the file.\n",
    "### Syntax:\n",
    "#### file.close()\n",
    "\n"
   ]
  },
  {
   "cell_type": "code",
   "execution_count": 25,
   "id": "fdb7af62",
   "metadata": {},
   "outputs": [],
   "source": [
    "# Open the file in write mode (creates a new file if it doesn't exist)\n",
    "file = open(\"output.txt\", \"w\")\n",
    "\n",
    "# Write content to the file\n",
    "file.write(\"Hello, world!\\n\")\n",
    "file.write(\"This is a new line.\\n\")\n",
    "\n",
    "# Close the file\n",
    "file.close()\n"
   ]
  },
  {
   "cell_type": "markdown",
   "id": "1f8bcbe0",
   "metadata": {},
   "source": [
    "### Using Context Managers (Recommended)\n",
    "\n",
    "#### Python provides a convenient way to work with files using context managers (with statement). It automatically closes the file when the block is exited, even if an exception occurs.\n",
    "\n",
    "### Syntax:\n",
    "#### with open(\"filename.txt\", mode) as file:\n",
    "    # Perform file operations\n"
   ]
  },
  {
   "cell_type": "code",
   "execution_count": 26,
   "id": "4f7ceb04",
   "metadata": {},
   "outputs": [],
   "source": [
    "# Using a context manager to open the file\n",
    "with open(\"output.txt\", \"w\") as file:\n",
    "    # Write content to the file\n",
    "    file.write(\"Hello, world!\\n\")\n",
    "    file.write(\"This is a new line.\\n\")\n",
    "\n",
    "# No need to explicitly close the file\n"
   ]
  },
  {
   "cell_type": "code",
   "execution_count": 27,
   "id": "03ed1417",
   "metadata": {},
   "outputs": [
    {
     "name": "stdout",
     "output_type": "stream",
     "text": [
      "Hello, world!\n",
      "This is a text file.\n",
      "\n"
     ]
    }
   ],
   "source": [
    "# Reading from a text file\n",
    "with open(\"example.txt\", \"r\") as file:\n",
    "    content = file.read()\n",
    "    print(content)\n"
   ]
  }
 ],
 "metadata": {
  "kernelspec": {
   "display_name": "Python 3 (ipykernel)",
   "language": "python",
   "name": "python3"
  },
  "language_info": {
   "codemirror_mode": {
    "name": "ipython",
    "version": 3
   },
   "file_extension": ".py",
   "mimetype": "text/x-python",
   "name": "python",
   "nbconvert_exporter": "python",
   "pygments_lexer": "ipython3",
   "version": "3.10.9"
  }
 },
 "nbformat": 4,
 "nbformat_minor": 5
}
