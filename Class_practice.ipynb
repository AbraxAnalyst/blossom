{
 "cells": [
  {
   "cell_type": "code",
   "execution_count": 4,
   "id": "03c58e9e-3f3a-4aad-a975-a3d57c47b5bd",
   "metadata": {},
   "outputs": [
    {
     "name": "stdout",
     "output_type": "stream",
     "text": [
      "['even ', 'even ', 'even ', 'even ']\n"
     ]
    }
   ],
   "source": [
    "numbers= [1,2,3,4,5,6,7,8]\n",
    "even_num= [\"even \" for x in numbers if x%2== 0 ]\n",
    "print(even_num)"
   ]
  },
  {
   "cell_type": "code",
   "execution_count": 7,
   "id": "83371f5f-2e85-4277-8496-f3540e171f8d",
   "metadata": {},
   "outputs": [
    {
     "name": "stdout",
     "output_type": "stream",
     "text": [
      "['odd', 'even', 'odd', 'even', 'odd', 'even', 'odd', 'even']\n"
     ]
    }
   ],
   "source": [
    "category = [\"even\" if x%2==0 else \"odd\" for x in numbers]\n",
    "print(category)"
   ]
  },
  {
   "cell_type": "code",
   "execution_count": 8,
   "id": "aab5a27f-1f36-49c5-9cba-10ce9a45c343",
   "metadata": {},
   "outputs": [
    {
     "name": "stdout",
     "output_type": "stream",
     "text": [
      "[(1, 'odd'), (2, 'even'), (3, 'odd'), (4, 'even'), (5, 'odd'), (6, 'even'), (7, 'odd'), (8, 'even')]\n"
     ]
    }
   ],
   "source": [
    "cat= [(x, \"even\") if x%2==0 else (x, \"odd\") for x in numbers]\n",
    "print(cat)"
   ]
  },
  {
   "cell_type": "code",
   "execution_count": null,
   "id": "1bc35049-1f35-4f97-b947-e1b6d0163223",
   "metadata": {},
   "outputs": [],
   "source": [
    "even_nm, odd_nm = list(filter(lambda x: x%2=0\n"
   ]
  },
  {
   "cell_type": "code",
   "execution_count": 11,
   "id": "0c9e8b34-74e0-4acd-8627-b3b8bc8dfe77",
   "metadata": {},
   "outputs": [
    {
     "name": "stdout",
     "output_type": "stream",
     "text": [
      "{'A': 1, 'B': 2, 'C,': 3}\n"
     ]
    }
   ],
   "source": [
    "Keys= ['A','B','C,']\n",
    "Values = [ 1,2,3]\n",
    "dict_ = {key:value for key, value in zip (Keys, Values)} \n",
    "print(dict_)"
   ]
  },
  {
   "cell_type": "code",
   "execution_count": 13,
   "id": "1bcfa480-0ceb-4dc9-8abc-075f77d67c74",
   "metadata": {},
   "outputs": [
    {
     "name": "stdout",
     "output_type": "stream",
     "text": [
      "[1, 4, 36, 9, 16, 25]\n"
     ]
    }
   ],
   "source": [
    "Numbers = [1,2,3,4,5,6]\n",
    "set_={x**2 for x in Numbers}\n",
    "print(set_)"
   ]
  },
  {
   "cell_type": "markdown",
   "id": "8c5b7f64-43be-4487-ace0-d4236a9fec24",
   "metadata": {},
   "source": [
    "## Modular Programming "
   ]
  },
  {
   "cell_type": "code",
   "execution_count": 20,
   "id": "d948aa0d-4ca1-4c22-9a09-9ce3c8ba3247",
   "metadata": {},
   "outputs": [],
   "source": [
    "from mymod import *"
   ]
  },
  {
   "cell_type": "code",
   "execution_count": 19,
   "id": "7da8153a-4e8c-4c37-9099-8e8555d87b6d",
   "metadata": {},
   "outputs": [
    {
     "data": {
      "text/plain": [
       "6"
      ]
     },
     "execution_count": 19,
     "metadata": {},
     "output_type": "execute_result"
    }
   ],
   "source": [
    "add(2,4)"
   ]
  },
  {
   "cell_type": "code",
   "execution_count": 21,
   "id": "d1356ecf-e603-4387-bd0a-0bfd023e55d1",
   "metadata": {},
   "outputs": [
    {
     "data": {
      "text/plain": [
       "-2"
      ]
     },
     "execution_count": 21,
     "metadata": {},
     "output_type": "execute_result"
    }
   ],
   "source": [
    "subt(2,4)"
   ]
  },
  {
   "cell_type": "markdown",
   "id": "387e4a5a-b9aa-4190-9760-b303da008329",
   "metadata": {},
   "source": [
    "## OBJECT programming "
   ]
  },
  {
   "cell_type": "code",
   "execution_count": 22,
   "id": "dbdff1c4-2264-467a-9309-e691bed8f2b9",
   "metadata": {},
   "outputs": [],
   "source": [
    "class Car:\n",
    "    def __init__(self, make, model, year): #this is called instructor\n",
    "        self.make = make\n",
    "        self.model = model\n",
    "        self.year = year\n",
    "\n",
    "    def display_info(self):\n",
    "        print(f\"{self.year} {self.make} {self.model}\")"
   ]
  },
  {
   "cell_type": "code",
   "execution_count": 24,
   "id": "23bade2d-369a-4b98-bdc6-dd3215fbe385",
   "metadata": {},
   "outputs": [
    {
     "name": "stdout",
     "output_type": "stream",
     "text": [
      "2024 Hyundia sonata\n"
     ]
    }
   ],
   "source": [
    "x= Car('Hyundia', 'sonata', 2024)\n",
    "x.display_info()"
   ]
  },
  {
   "cell_type": "markdown",
   "id": "d27e546f-6b46-4d11-b26a-3a3cb6647274",
   "metadata": {},
   "source": [
    "## Inheritance"
   ]
  },
  {
   "cell_type": "code",
   "execution_count": 40,
   "id": "2c234550-60a7-4d93-8306-1a0eae2a6120",
   "metadata": {},
   "outputs": [],
   "source": [
    "class swim:\n",
    "    def swimming(self):\n",
    "        print('swimming')\n",
    "class fly:\n",
    "    def flying(self):\n",
    "        print('flying')\n",
    "\n",
    "# class Duck:\n",
    " #   def swmming(self):\n",
    "   #     print('swimming')\n",
    "    # def flying(self):\n",
    "      #  print('flying') \n",
    "class Duck(swim, fly):\n",
    "    pass\n"
   ]
  },
  {
   "cell_type": "code",
   "execution_count": 41,
   "id": "bf566a50-8e24-4e8c-b34e-bbe75689321a",
   "metadata": {},
   "outputs": [],
   "source": [
    "x = Duck()"
   ]
  },
  {
   "cell_type": "code",
   "execution_count": 46,
   "id": "f6ee3d93-2903-49e0-8c54-4c32452e4849",
   "metadata": {},
   "outputs": [
    {
     "name": "stdout",
     "output_type": "stream",
     "text": [
      "swimming\n"
     ]
    }
   ],
   "source": [
    "x.swimming()"
   ]
  },
  {
   "cell_type": "markdown",
   "id": "55e61a6d-636d-490e-8c4f-992dcd102251",
   "metadata": {},
   "source": [
    "### Multilevel inheritance"
   ]
  },
  {
   "cell_type": "code",
   "execution_count": 52,
   "id": "2346346b-6cfe-403f-a5d3-3a5f90502db2",
   "metadata": {},
   "outputs": [],
   "source": [
    "class Animal:\n",
    "    def speak(self):\n",
    "        print('speaking')\n",
    "class Dog(Animal):\n",
    "    def barks(self):\n",
    "        print('Dog barks')\n",
    "  \n",
    "\n",
    "class puppy:\n",
    "    def barks(self):\n",
    "        print('Dog barkks')\n",
    "    def speak(self):\n",
    "        print('Speaking')\n",
    "    def play(self):\n",
    "        print('play')"
   ]
  },
  {
   "cell_type": "code",
   "execution_count": 53,
   "id": "3eb8f3c5-4136-452a-9ade-598f87d75c5c",
   "metadata": {},
   "outputs": [],
   "source": [
    "class papi(Dog):\n",
    "    def play(self):\n",
    "        print('play')\n",
    "    \n",
    "    "
   ]
  },
  {
   "cell_type": "code",
   "execution_count": 54,
   "id": "c32dd2cd-f630-406e-9769-46498a06276a",
   "metadata": {},
   "outputs": [],
   "source": [
    "x=papi()"
   ]
  },
  {
   "cell_type": "code",
   "execution_count": 55,
   "id": "e2b7b822-4614-4ebc-b641-50dbdba0afc5",
   "metadata": {},
   "outputs": [
    {
     "name": "stdout",
     "output_type": "stream",
     "text": [
      "speaking\n"
     ]
    }
   ],
   "source": [
    "x.speak()"
   ]
  },
  {
   "cell_type": "markdown",
   "id": "ba5083cb-22ff-4785-8425-12014486eee6",
   "metadata": {},
   "source": [
    "### Hirachical Inheritance "
   ]
  },
  {
   "cell_type": "code",
   "execution_count": 56,
   "id": "2294c216-9cda-4c87-93b5-c0c14dbe24b9",
   "metadata": {},
   "outputs": [],
   "source": [
    "class Animal:\n",
    "    def speak(self):\n",
    "        print(\"Animal speaks\")\n",
    "\n",
    "class Dog(Animal):\n",
    "    def bark(self):\n",
    "        print(\"Dog barks\")\n",
    "\n",
    "class Cat(Animal):\n",
    "    def meow(self):\n",
    "        print(\"Cat meows\")"
   ]
  },
  {
   "cell_type": "code",
   "execution_count": 59,
   "id": "a187172a-41c4-48a1-9b85-459b6216195f",
   "metadata": {},
   "outputs": [],
   "source": [
    "class myclass:\n",
    "    def __init__(self, x):\n",
    "        self.__x=x\n"
   ]
  },
  {
   "cell_type": "markdown",
   "id": "7568c149-0223-455f-8e45-477e5dfec999",
   "metadata": {},
   "source": [
    "## Encapsulation"
   ]
  },
  {
   "cell_type": "code",
   "execution_count": 60,
   "id": "d9ca05c4-3d86-4fd0-9948-cbead91b6287",
   "metadata": {},
   "outputs": [],
   "source": [
    "class Car:\n",
    "    def __init__(self, make, model):\n",
    "        self._make = make\n",
    "        self._model = model\n",
    "\n",
    "    def get_make(self):\n",
    "        return self._make\n",
    "\n",
    "    def set_make(self, make):\n",
    "        self._make = make\n",
    "\n",
    "    def get_model(self):\n",
    "        return self._model\n",
    "\n",
    "    def set_model(self, model):\n",
    "        self._model = model"
   ]
  },
  {
   "cell_type": "code",
   "execution_count": 65,
   "id": "f380ec7a-6738-4c66-942a-fabe9cfe3f6c",
   "metadata": {},
   "outputs": [
    {
     "data": {
      "text/plain": [
       "'Honda'"
      ]
     },
     "execution_count": 65,
     "metadata": {},
     "output_type": "execute_result"
    }
   ],
   "source": [
    "x= Car('Toyta','corolla')\n",
    "x.set_make('Honda')\n",
    "x.get_make()"
   ]
  },
  {
   "cell_type": "code",
   "execution_count": 121,
   "id": "18931ceb-06a7-428e-81e5-4038ee330331",
   "metadata": {},
   "outputs": [],
   "source": [
    "class BankAccount:\n",
    "    def __init__(self, account_number, initial_balance):\n",
    "        self.__account_number = account_number  # Private attribute\n",
    "        self.__balance = initial_balance  # Private attribute\n",
    "\n",
    "    def deposit(self, amount):\n",
    "        if amount > 0:\n",
    "            self.__balance += amount\n",
    "\n",
    "    def withdraw(self, amount):\n",
    "        if 0 < amount <= self.__balance:\n",
    "            self.__balance -= amount\n",
    "            print(f\"{'Withdraw success,  Balance: '} {account.get_balance()}\") \n",
    "            \n",
    "        else:\n",
    "            print(\"Insufficient funds\")\n",
    "\n",
    "    def get_balance(self):\n",
    "        return self.__balance"
   ]
  },
  {
   "cell_type": "code",
   "execution_count": 114,
   "id": "e5cf8f9c-063b-4a1d-9247-2705a4459337",
   "metadata": {},
   "outputs": [],
   "source": [
    "account = BankAccount(\"123456\", 1000)"
   ]
  },
  {
   "cell_type": "code",
   "execution_count": 82,
   "id": "f5337b21-6f57-4273-8ce2-1f5cbaa81b2a",
   "metadata": {},
   "outputs": [
    {
     "name": "stdout",
     "output_type": "stream",
     "text": [
      "Initial Balance: 1000\n"
     ]
    }
   ],
   "source": [
    "print(\"Initial Balance:\", account.get_balance())"
   ]
  },
  {
   "cell_type": "code",
   "execution_count": 122,
   "id": "43151863-9582-46ea-b2db-7bef88742da0",
   "metadata": {},
   "outputs": [
    {
     "name": "stdout",
     "output_type": "stream",
     "text": [
      "('Withdraw success,  Balance: ', 560\n"
     ]
    }
   ],
   "source": [
    "account.withdraw(20)"
   ]
  },
  {
   "cell_type": "code",
   "execution_count": 128,
   "id": "7d1859ac-c0e2-4386-8dfd-2afb83da61aa",
   "metadata": {},
   "outputs": [],
   "source": [
    "f= open('Leadership.txt', \"r\")"
   ]
  },
  {
   "cell_type": "code",
   "execution_count": 129,
   "id": "51ac121a-0f57-41a2-a1a3-979e73fb0bb1",
   "metadata": {},
   "outputs": [
    {
     "name": "stdout",
     "output_type": "stream",
     "text": [
      "\n"
     ]
    }
   ],
   "source": [
    "content= f.read()\n",
    "print(content)"
   ]
  },
  {
   "cell_type": "code",
   "execution_count": 125,
   "id": "1de2bdf9-b748-4647-9046-8536ab572dc0",
   "metadata": {},
   "outputs": [],
   "source": [
    "f.close()"
   ]
  },
  {
   "cell_type": "code",
   "execution_count": 127,
   "id": "644cd909-dd38-4495-b20d-0431269ab1c6",
   "metadata": {},
   "outputs": [],
   "source": [
    "f= open('Leadership.txt', \"a\")"
   ]
  },
  {
   "cell_type": "markdown",
   "id": "0dc61469-b459-4e31-aa72-cc516791beff",
   "metadata": {},
   "source": [
    "## Pandas "
   ]
  },
  {
   "cell_type": "code",
   "execution_count": 1,
   "id": "1e4ee5d8-34fd-458b-9b1c-464b0928c3a6",
   "metadata": {},
   "outputs": [],
   "source": [
    "import pandas as pd \n",
    "\n"
   ]
  },
  {
   "cell_type": "code",
   "execution_count": 2,
   "id": "cc6c1d19-36e1-49a3-8085-579648606578",
   "metadata": {},
   "outputs": [],
   "source": [
    "accra =pd.DataFrame({'Town':['Circle','Madina','East Legon'],\n",
    "                    'Humidity':[32,29,34],\n",
    "                    'Temperature':[28,30,25]})\n",
    "kumasi =pd.DataFrame({'Town':['Kejetia','Amakom','Mantia'],\n",
    "                    'Humidity':[27,39,36],\n",
    "                    'Temperature':[30,26,24]})"
   ]
  },
  {
   "cell_type": "code",
   "execution_count": 4,
   "id": "19021259-4775-4cfe-8ef5-af7e1cc951f4",
   "metadata": {},
   "outputs": [
    {
     "data": {
      "text/html": [
       "<div>\n",
       "<style scoped>\n",
       "    .dataframe tbody tr th:only-of-type {\n",
       "        vertical-align: middle;\n",
       "    }\n",
       "\n",
       "    .dataframe tbody tr th {\n",
       "        vertical-align: top;\n",
       "    }\n",
       "\n",
       "    .dataframe thead th {\n",
       "        text-align: right;\n",
       "    }\n",
       "</style>\n",
       "<table border=\"1\" class=\"dataframe\">\n",
       "  <thead>\n",
       "    <tr style=\"text-align: right;\">\n",
       "      <th></th>\n",
       "      <th>Town</th>\n",
       "      <th>Humidity</th>\n",
       "      <th>Temperature</th>\n",
       "    </tr>\n",
       "  </thead>\n",
       "  <tbody>\n",
       "    <tr>\n",
       "      <th>0</th>\n",
       "      <td>Circle</td>\n",
       "      <td>32</td>\n",
       "      <td>28</td>\n",
       "    </tr>\n",
       "    <tr>\n",
       "      <th>1</th>\n",
       "      <td>Madina</td>\n",
       "      <td>29</td>\n",
       "      <td>30</td>\n",
       "    </tr>\n",
       "    <tr>\n",
       "      <th>2</th>\n",
       "      <td>East Legon</td>\n",
       "      <td>34</td>\n",
       "      <td>25</td>\n",
       "    </tr>\n",
       "    <tr>\n",
       "      <th>3</th>\n",
       "      <td>Kejetia</td>\n",
       "      <td>27</td>\n",
       "      <td>30</td>\n",
       "    </tr>\n",
       "    <tr>\n",
       "      <th>4</th>\n",
       "      <td>Amakom</td>\n",
       "      <td>39</td>\n",
       "      <td>26</td>\n",
       "    </tr>\n",
       "    <tr>\n",
       "      <th>5</th>\n",
       "      <td>Mantia</td>\n",
       "      <td>36</td>\n",
       "      <td>24</td>\n",
       "    </tr>\n",
       "  </tbody>\n",
       "</table>\n",
       "</div>"
      ],
      "text/plain": [
       "         Town  Humidity  Temperature\n",
       "0      Circle        32           28\n",
       "1      Madina        29           30\n",
       "2  East Legon        34           25\n",
       "3     Kejetia        27           30\n",
       "4      Amakom        39           26\n",
       "5      Mantia        36           24"
      ]
     },
     "execution_count": 4,
     "metadata": {},
     "output_type": "execute_result"
    }
   ],
   "source": [
    "df_3 = pd.concat([accra,kumasi], ignore_index=True, axis= 0)\n",
    "df_3"
   ]
  },
  {
   "cell_type": "markdown",
   "id": "f380c3b4-f13a-4bc8-98de-a7a1b9ea3c61",
   "metadata": {},
   "source": [
    "### Merge\n"
   ]
  },
  {
   "cell_type": "code",
   "execution_count": 13,
   "id": "fd70a668-2d8b-4653-b5ac-b9801c640a24",
   "metadata": {},
   "outputs": [],
   "source": [
    "df_5 = pd.DataFrame({'Names': ['Ama', 'Barry', 'Celestine', 'Dela'], 'Score1': [1, 2, 3, 4]})\n",
    "df_6 = pd.DataFrame({'Names': ['Barry', 'Dela', 'Emma', 'Frank'], 'Score2': [5, 6, 7, 8]})"
   ]
  },
  {
   "cell_type": "code",
   "execution_count": 12,
   "id": "6876ca28-2c73-4ca8-a1bf-3db24651961d",
   "metadata": {},
   "outputs": [
    {
     "data": {
      "text/html": [
       "<div>\n",
       "<style scoped>\n",
       "    .dataframe tbody tr th:only-of-type {\n",
       "        vertical-align: middle;\n",
       "    }\n",
       "\n",
       "    .dataframe tbody tr th {\n",
       "        vertical-align: top;\n",
       "    }\n",
       "\n",
       "    .dataframe thead th {\n",
       "        text-align: right;\n",
       "    }\n",
       "</style>\n",
       "<table border=\"1\" class=\"dataframe\">\n",
       "  <thead>\n",
       "    <tr style=\"text-align: right;\">\n",
       "      <th></th>\n",
       "      <th>Names</th>\n",
       "      <th>Score1_x</th>\n",
       "      <th>Score1_y</th>\n",
       "    </tr>\n",
       "  </thead>\n",
       "  <tbody>\n",
       "    <tr>\n",
       "      <th>0</th>\n",
       "      <td>Barry</td>\n",
       "      <td>2</td>\n",
       "      <td>5</td>\n",
       "    </tr>\n",
       "    <tr>\n",
       "      <th>1</th>\n",
       "      <td>Dela</td>\n",
       "      <td>4</td>\n",
       "      <td>6</td>\n",
       "    </tr>\n",
       "  </tbody>\n",
       "</table>\n",
       "</div>"
      ],
      "text/plain": [
       "   Names  Score1_x  Score1_y\n",
       "0  Barry         2         5\n",
       "1   Dela         4         6"
      ]
     },
     "execution_count": 12,
     "metadata": {},
     "output_type": "execute_result"
    }
   ],
   "source": [
    "pd.merge(df_5, df_6, on='Names', how='inner')"
   ]
  },
  {
   "cell_type": "code",
   "execution_count": 4,
   "id": "80830e50-80ef-42f5-89ce-5b422a7d1dc3",
   "metadata": {},
   "outputs": [],
   "source": [
    "data = { \"Name\": ['Austin', 'Pascal', 'Eniola','Juliet','Vincent'],\n",
    "        \"Age\": [30,34,50,12,14]\n",
    "}"
   ]
  },
  {
   "cell_type": "code",
   "execution_count": 5,
   "id": "e05a9d43-1ae1-4bca-a62d-25de71849404",
   "metadata": {},
   "outputs": [],
   "source": [
    "df = pd.DataFrame(data)"
   ]
  },
  {
   "cell_type": "code",
   "execution_count": 6,
   "id": "9124fd38-d6b5-40a6-9fc4-503b1f2b7b18",
   "metadata": {},
   "outputs": [
    {
     "data": {
      "text/html": [
       "<div>\n",
       "<style scoped>\n",
       "    .dataframe tbody tr th:only-of-type {\n",
       "        vertical-align: middle;\n",
       "    }\n",
       "\n",
       "    .dataframe tbody tr th {\n",
       "        vertical-align: top;\n",
       "    }\n",
       "\n",
       "    .dataframe thead th {\n",
       "        text-align: right;\n",
       "    }\n",
       "</style>\n",
       "<table border=\"1\" class=\"dataframe\">\n",
       "  <thead>\n",
       "    <tr style=\"text-align: right;\">\n",
       "      <th></th>\n",
       "      <th>Name</th>\n",
       "      <th>Age</th>\n",
       "    </tr>\n",
       "  </thead>\n",
       "  <tbody>\n",
       "    <tr>\n",
       "      <th>0</th>\n",
       "      <td>Austin</td>\n",
       "      <td>30</td>\n",
       "    </tr>\n",
       "    <tr>\n",
       "      <th>1</th>\n",
       "      <td>Pascal</td>\n",
       "      <td>34</td>\n",
       "    </tr>\n",
       "    <tr>\n",
       "      <th>2</th>\n",
       "      <td>Eniola</td>\n",
       "      <td>50</td>\n",
       "    </tr>\n",
       "    <tr>\n",
       "      <th>3</th>\n",
       "      <td>Juliet</td>\n",
       "      <td>12</td>\n",
       "    </tr>\n",
       "    <tr>\n",
       "      <th>4</th>\n",
       "      <td>Vincent</td>\n",
       "      <td>14</td>\n",
       "    </tr>\n",
       "  </tbody>\n",
       "</table>\n",
       "</div>"
      ],
      "text/plain": [
       "      Name  Age\n",
       "0   Austin   30\n",
       "1   Pascal   34\n",
       "2   Eniola   50\n",
       "3   Juliet   12\n",
       "4  Vincent   14"
      ]
     },
     "execution_count": 6,
     "metadata": {},
     "output_type": "execute_result"
    }
   ],
   "source": [
    "df"
   ]
  },
  {
   "cell_type": "code",
   "execution_count": 9,
   "id": "4ed348ec-237a-44e9-8a00-e24fd149bbcf",
   "metadata": {},
   "outputs": [],
   "source": [
    "Filtered=df[df['Age']>22]"
   ]
  },
  {
   "cell_type": "code",
   "execution_count": 10,
   "id": "8b8a4c7c-e665-482b-a9a4-06ae9415d85c",
   "metadata": {},
   "outputs": [
    {
     "data": {
      "text/html": [
       "<div>\n",
       "<style scoped>\n",
       "    .dataframe tbody tr th:only-of-type {\n",
       "        vertical-align: middle;\n",
       "    }\n",
       "\n",
       "    .dataframe tbody tr th {\n",
       "        vertical-align: top;\n",
       "    }\n",
       "\n",
       "    .dataframe thead th {\n",
       "        text-align: right;\n",
       "    }\n",
       "</style>\n",
       "<table border=\"1\" class=\"dataframe\">\n",
       "  <thead>\n",
       "    <tr style=\"text-align: right;\">\n",
       "      <th></th>\n",
       "      <th>Name</th>\n",
       "      <th>Age</th>\n",
       "    </tr>\n",
       "  </thead>\n",
       "  <tbody>\n",
       "    <tr>\n",
       "      <th>0</th>\n",
       "      <td>Austin</td>\n",
       "      <td>30</td>\n",
       "    </tr>\n",
       "    <tr>\n",
       "      <th>1</th>\n",
       "      <td>Pascal</td>\n",
       "      <td>34</td>\n",
       "    </tr>\n",
       "    <tr>\n",
       "      <th>2</th>\n",
       "      <td>Eniola</td>\n",
       "      <td>50</td>\n",
       "    </tr>\n",
       "  </tbody>\n",
       "</table>\n",
       "</div>"
      ],
      "text/plain": [
       "     Name  Age\n",
       "0  Austin   30\n",
       "1  Pascal   34\n",
       "2  Eniola   50"
      ]
     },
     "execution_count": 10,
     "metadata": {},
     "output_type": "execute_result"
    }
   ],
   "source": [
    "Filtered\n"
   ]
  },
  {
   "cell_type": "code",
   "execution_count": 18,
   "id": "22f71b44-460c-431b-97a8-58c4adb309ac",
   "metadata": {},
   "outputs": [
    {
     "data": {
      "text/html": [
       "<div>\n",
       "<style scoped>\n",
       "    .dataframe tbody tr th:only-of-type {\n",
       "        vertical-align: middle;\n",
       "    }\n",
       "\n",
       "    .dataframe tbody tr th {\n",
       "        vertical-align: top;\n",
       "    }\n",
       "\n",
       "    .dataframe thead th {\n",
       "        text-align: right;\n",
       "    }\n",
       "</style>\n",
       "<table border=\"1\" class=\"dataframe\">\n",
       "  <thead>\n",
       "    <tr style=\"text-align: right;\">\n",
       "      <th></th>\n",
       "      <th>Name</th>\n",
       "      <th>Age</th>\n",
       "    </tr>\n",
       "  </thead>\n",
       "  <tbody>\n",
       "    <tr>\n",
       "      <th>0</th>\n",
       "      <td>Austin</td>\n",
       "      <td>30</td>\n",
       "    </tr>\n",
       "  </tbody>\n",
       "</table>\n",
       "</div>"
      ],
      "text/plain": [
       "     Name  Age\n",
       "0  Austin   30"
      ]
     },
     "execution_count": 18,
     "metadata": {},
     "output_type": "execute_result"
    }
   ],
   "source": [
    "df[(df['Name'] == 'Austin') & (df['Age'] > 22)]"
   ]
  },
  {
   "cell_type": "code",
   "execution_count": null,
   "id": "5f3b1fa2-a754-4c0e-ad26-27c785f3e858",
   "metadata": {},
   "outputs": [],
   "source": []
  }
 ],
 "metadata": {
  "kernelspec": {
   "display_name": "Python 3 (ipykernel)",
   "language": "python",
   "name": "python3"
  },
  "language_info": {
   "codemirror_mode": {
    "name": "ipython",
    "version": 3
   },
   "file_extension": ".py",
   "mimetype": "text/x-python",
   "name": "python",
   "nbconvert_exporter": "python",
   "pygments_lexer": "ipython3",
   "version": "3.11.8"
  }
 },
 "nbformat": 4,
 "nbformat_minor": 5
}
