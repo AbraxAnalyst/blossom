{
  "cells": [
    {
      "cell_type": "markdown",
      "id": "0ab9af6a",
      "metadata": {
        "id": "0ab9af6a"
      },
      "source": [
        "# GIT"
      ]
    },
    {
      "cell_type": "markdown",
      "id": "a0ad9419",
      "metadata": {
        "id": "a0ad9419"
      },
      "source": [
        "## Version Control:\n",
        "\n",
        "\n",
        "Version control is a system that records changes to files over time, allowing you to recall specific versions later.  It's an essential tool in software development that enables collaboration, tracks changes, and provides a safety net for project files."
      ]
    },
    {
      "cell_type": "markdown",
      "id": "1473e3f2",
      "metadata": {
        "id": "1473e3f2"
      },
      "source": [
        "## Distributed Version Control Systems (DVCS):\n",
        "\n",
        "\n",
        "In DVCS, every user has a complete copy (clone) of the repository, including its full history. Users can work offline, commit changes locally, and synchronize with remote repositories when they're online."
      ]
    },
    {
      "cell_type": "markdown",
      "id": "b9d9a703",
      "metadata": {
        "id": "b9d9a703"
      },
      "source": [
        "## GITHUB\n"
      ]
    },
    {
      "cell_type": "markdown",
      "id": "93709555",
      "metadata": {
        "id": "93709555"
      },
      "source": [
        "### Step-by-step instructions for opening a GitHub account:\n",
        "\n",
        "1. **Go to GitHub's website**: Open your web browser and navigate to https://github.com/.\n",
        "\n",
        "2. **Sign up for an account**: On the GitHub homepage, you'll see a \"Sign up\" button. Click on it.\n",
        "\n",
        "3. **Enter your information**: You'll be prompted to enter your username, email address, and password. Choose a username that you'll be comfortable with as it will be your identity on GitHub.\n",
        "\n",
        "4. **Complete the CAPTCHA**: GitHub uses CAPTCHA to verify that you're not a robot. Complete the CAPTCHA prompt to proceed.\n",
        "\n",
        "5. **Choose a plan**: GitHub offers free and paid plans. For most users, the free plan is sufficient. Select the \"Free\" plan option.\n",
        "\n",
        "6. **Verify your email address**: After signing up, GitHub will send a verification email to the email address you provided. Go to your email inbox, find the email from GitHub, and click on the verification link.\n",
        "\n",
        "7. **Set up your profile (optional)**: Once your account is verified, you can customize your profile by adding a profile picture, bio, and other information. This step is optional but can help others recognize you on GitHub.\n",
        "\n",
        "8. **Explore GitHub**: Now that your account is set up, you can start exploring GitHub! You can search for repositories, follow other users, and even contribute to open-source projects.\n",
        "\n"
      ]
    },
    {
      "cell_type": "markdown",
      "id": "dc17a735",
      "metadata": {
        "id": "dc17a735"
      },
      "source": [
        "## Configuring Git with User Name and Email:\n",
        "\n",
        "Once Git is installed, configure it with your username and email. This information is used to identify your commits.\n",
        "\n",
        "### Command Line Configuration:\n",
        "1. Open a terminal or Git Bash.\n",
        "2. Run the following commands, replacing \"Your Name\" and \"your.email@example.com\" with your actual name and email:\n",
        "\n",
        "```bash\n",
        "git config --global user.name \"Your Name\"\n",
        "git config --global user.email \"your.email@example.com\"\n"
      ]
    },
    {
      "cell_type": "markdown",
      "id": "702c40ec",
      "metadata": {
        "id": "702c40ec"
      },
      "source": [
        "## Verification:\n",
        "\n",
        "You can verify that Git has been configured correctly by running:"
      ]
    },
    {
      "cell_type": "markdown",
      "id": "0c763e67",
      "metadata": {
        "id": "0c763e67"
      },
      "source": [
        "git config --global --list\n"
      ]
    },
    {
      "cell_type": "markdown",
      "id": "1f3429c0",
      "metadata": {
        "id": "1f3429c0"
      },
      "source": [
        "This command will display the global Git configuration, including your name and email."
      ]
    },
    {
      "cell_type": "markdown",
      "id": "a4019970",
      "metadata": {
        "id": "a4019970"
      },
      "source": [
        "### Verification:\n",
        "\n",
        "You can verify that the repository has been initialized by running:"
      ]
    },
    {
      "cell_type": "markdown",
      "id": "b34c732b",
      "metadata": {
        "id": "b34c732b"
      },
      "source": [
        "ls -a\n"
      ]
    },
    {
      "cell_type": "markdown",
      "id": "b4710181",
      "metadata": {
        "id": "b4710181"
      },
      "source": [
        "## Basic Git Concepts:\n",
        "\n",
        "### Working Directory, Staging Area (Index), and Repository:\n",
        "\n",
        "1. **Working Directory:** This is where you edit your files. It's essentially your project folder on your local machine.\n",
        "\n",
        "2. **Staging Area (Index):** The staging area is where you prepare changes before committing them to the repository. You add files here that you want to include in the next commit.\n",
        "\n",
        "3. **Repository:** Also known as the Git repository or repo, this is where Git stores all the versions of your files and their history. It resides in the `.git` directory within your project folder.\n",
        "\n",
        "## Committing Changes:\n",
        "\n",
        "Once you've made changes to your files in the working directory and staged them, you can commit those changes to the repository.\n",
        "\n"
      ]
    },
    {
      "cell_type": "markdown",
      "id": "78d32740",
      "metadata": {
        "id": "78d32740"
      },
      "source": [
        "### Initializing a new Git repository\n",
        "To start using Git with an existing project or directory, you need to initialize a Git repository.\n",
        "\n",
        "git init\n",
        "\n",
        "### Adding files to the staging area\n",
        "git add file1.txt file2.txt\n",
        "\n",
        "### Committing changes with a message\n",
        "git commit -m \"Initial commit: Added file1.txt and file2.txt\"\n",
        "\n",
        "### Checking the status of the repository\n",
        "You can use the git status command to see the current status of your working directory and staging area.\n",
        "\n",
        "git status\n",
        "\n",
        "### Viewing the commit history\n",
        "git log\n",
        "\n",
        "### Creating a new branch\n",
        "git branch new-feature\n",
        "\n",
        "### Switching to a different branch\n",
        "git checkout new-feature\n",
        "\n",
        "\n"
      ]
    },
    {
      "cell_type": "markdown",
      "id": "3291fd70",
      "metadata": {
        "id": "3291fd70"
      },
      "source": [
        "# Adding and committing changes to a new repository\n",
        "\n",
        "git add .\n",
        "\n",
        "git commit -m \"Implemented new feature\"\n",
        "\n",
        "git branch -M main\n",
        "\n",
        "git remote add origin <remote_URL>\n",
        "\n",
        "git push -u origin main\n"
      ]
    },
    {
      "cell_type": "markdown",
      "id": "ddec20bb",
      "metadata": {
        "id": "ddec20bb"
      },
      "source": [
        "## Branching:\n",
        "\n",
        "Branching allows you to diverge from the main line of development and work on new features or fixes without affecting the main codebase.\n",
        "\n",
        "\n",
        "1. Create a new branch:\n",
        "\n",
        "git branch <branch_name>\n",
        "\n",
        "2. Switching Between Branches with git checkout:\n",
        "Once you've created a new branch, you can switch to it to start working on changes specific to that branch.\n",
        "\n",
        "git checkout <branch_name>"
      ]
    }
  ],
  "metadata": {
    "kernelspec": {
      "display_name": "Python 3 (ipykernel)",
      "language": "python",
      "name": "python3"
    },
    "language_info": {
      "codemirror_mode": {
        "name": "ipython",
        "version": 3
      },
      "file_extension": ".py",
      "mimetype": "text/x-python",
      "name": "python",
      "nbconvert_exporter": "python",
      "pygments_lexer": "ipython3",
      "version": "3.11.7"
    },
    "colab": {
      "provenance": []
    }
  },
  "nbformat": 4,
  "nbformat_minor": 5
}