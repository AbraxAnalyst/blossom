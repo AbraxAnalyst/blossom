{
 "cells": [
  {
   "cell_type": "markdown",
   "id": "9bc0bbf9",
   "metadata": {},
   "source": [
    "# NUMPY"
   ]
  },
  {
   "cell_type": "markdown",
   "id": "6f952f34",
   "metadata": {},
   "source": [
    "## Numpy is a general puprose array-processing package in python"
   ]
  },
  {
   "cell_type": "code",
   "execution_count": 1,
   "id": "f3c7420b",
   "metadata": {},
   "outputs": [],
   "source": [
    "import numpy as np"
   ]
  },
  {
   "cell_type": "code",
   "execution_count": 2,
   "id": "e5c0bfd1",
   "metadata": {},
   "outputs": [],
   "source": [
    "#1d array from a python list\n",
    "arr1d = np.array([1,2,3,4,5])\n",
    "#2d array from a nested python list\n",
    "arr2d = np.array([[1,2,3],[4,5,6]])"
   ]
  },
  {
   "cell_type": "code",
   "execution_count": 3,
   "id": "f34b365c",
   "metadata": {},
   "outputs": [
    {
     "name": "stdout",
     "output_type": "stream",
     "text": [
      "[[0. 0. 0. 0.]\n",
      " [0. 0. 0. 0.]\n",
      " [0. 0. 0. 0.]]\n"
     ]
    }
   ],
   "source": [
    "zeros_arr = np.zeros((3,4))\n",
    "print(zeros_arr)"
   ]
  },
  {
   "cell_type": "markdown",
   "id": "69dc9495",
   "metadata": {},
   "source": [
    "## Array attributes"
   ]
  },
  {
   "cell_type": "code",
   "execution_count": 4,
   "id": "77f1629d",
   "metadata": {},
   "outputs": [
    {
     "name": "stdout",
     "output_type": "stream",
     "text": [
      "(2, 3)\n"
     ]
    }
   ],
   "source": [
    "#shape\n",
    "shape = arr2d.shape\n",
    "print(shape)"
   ]
  },
  {
   "cell_type": "code",
   "execution_count": 5,
   "id": "a597e828",
   "metadata": {},
   "outputs": [
    {
     "name": "stdout",
     "output_type": "stream",
     "text": [
      "6\n"
     ]
    }
   ],
   "source": [
    "#size\n",
    "size = arr2d.size\n",
    "print(size)"
   ]
  },
  {
   "cell_type": "code",
   "execution_count": 6,
   "id": "827d7ffc",
   "metadata": {},
   "outputs": [
    {
     "name": "stdout",
     "output_type": "stream",
     "text": [
      "int32\n"
     ]
    }
   ],
   "source": [
    "#data type\n",
    "data_type = arr2d.dtype\n",
    "print(data_type)"
   ]
  },
  {
   "cell_type": "markdown",
   "id": "9bdd6222",
   "metadata": {},
   "source": [
    "## Array Operations"
   ]
  },
  {
   "cell_type": "code",
   "execution_count": 7,
   "id": "c589c589",
   "metadata": {},
   "outputs": [
    {
     "name": "stdout",
     "output_type": "stream",
     "text": [
      "[[3 4 5]\n",
      " [6 7 8]]\n"
     ]
    }
   ],
   "source": [
    "#addition\n",
    "addition = 2 + arr2d\n",
    "print(addition)"
   ]
  },
  {
   "cell_type": "code",
   "execution_count": 8,
   "id": "cb9e0db7",
   "metadata": {},
   "outputs": [
    {
     "name": "stdout",
     "output_type": "stream",
     "text": [
      "[[-2 -1  0]\n",
      " [ 1  2  3]]\n"
     ]
    }
   ],
   "source": [
    "#subtraction\n",
    "subtraction = arr2d - 3\n",
    "print(subtraction)"
   ]
  },
  {
   "cell_type": "code",
   "execution_count": 9,
   "id": "cbd9d3df",
   "metadata": {},
   "outputs": [
    {
     "name": "stdout",
     "output_type": "stream",
     "text": [
      "[[ 4  8 12]\n",
      " [16 20 24]]\n"
     ]
    }
   ],
   "source": [
    "#Multiplication\n",
    "multiplication = 4 * arr2d\n",
    "print(multiplication)"
   ]
  },
  {
   "cell_type": "markdown",
   "id": "524cfb85",
   "metadata": {},
   "source": [
    "## Aggregation Functions"
   ]
  },
  {
   "cell_type": "code",
   "execution_count": 10,
   "id": "38ef6de7",
   "metadata": {},
   "outputs": [
    {
     "name": "stdout",
     "output_type": "stream",
     "text": [
      "21\n"
     ]
    }
   ],
   "source": [
    "#sum\n",
    "total_sum = arr2d.sum()\n",
    "print(total_sum)"
   ]
  },
  {
   "cell_type": "code",
   "execution_count": 11,
   "id": "129d3ce0",
   "metadata": {},
   "outputs": [
    {
     "name": "stdout",
     "output_type": "stream",
     "text": [
      "6\n"
     ]
    }
   ],
   "source": [
    "#max\n",
    "max_val = arr2d.max()\n",
    "print(max_val)"
   ]
  },
  {
   "cell_type": "code",
   "execution_count": 12,
   "id": "5f31af93",
   "metadata": {},
   "outputs": [
    {
     "name": "stdout",
     "output_type": "stream",
     "text": [
      "1\n"
     ]
    }
   ],
   "source": [
    "#min\n",
    "min_val = arr2d.min()\n",
    "print(min_val)"
   ]
  },
  {
   "cell_type": "markdown",
   "id": "116ac3bf",
   "metadata": {},
   "source": [
    "## Indexing"
   ]
  },
  {
   "cell_type": "code",
   "execution_count": 13,
   "id": "6445391c",
   "metadata": {},
   "outputs": [
    {
     "name": "stdout",
     "output_type": "stream",
     "text": [
      "[[4 5 6]]\n"
     ]
    }
   ],
   "source": [
    "#second row\n",
    "second_row = arr2d[1:,:]\n",
    "print(second_row)"
   ]
  },
  {
   "cell_type": "code",
   "execution_count": 14,
   "id": "68d89235",
   "metadata": {},
   "outputs": [
    {
     "name": "stdout",
     "output_type": "stream",
     "text": [
      "[[1 2 3]]\n"
     ]
    }
   ],
   "source": [
    "#first row\n",
    "first_row = arr2d[0:1,:]\n",
    "print(first_row)"
   ]
  },
  {
   "cell_type": "code",
   "execution_count": 15,
   "id": "0d28a3aa",
   "metadata": {},
   "outputs": [
    {
     "name": "stdout",
     "output_type": "stream",
     "text": [
      "[[5 6]]\n"
     ]
    }
   ],
   "source": [
    "\n",
    "second_row_element = arr2d[1:,1:]\n",
    "print(second_row_element)"
   ]
  },
  {
   "cell_type": "code",
   "execution_count": 16,
   "id": "c2ea875c",
   "metadata": {},
   "outputs": [
    {
     "name": "stdout",
     "output_type": "stream",
     "text": [
      "[[1 2]]\n"
     ]
    }
   ],
   "source": [
    "first_row_element = arr2d[0:1,0:2]\n",
    "print(first_row_element)"
   ]
  },
  {
   "cell_type": "code",
   "execution_count": 17,
   "id": "a9cf7d19",
   "metadata": {},
   "outputs": [
    {
     "name": "stdout",
     "output_type": "stream",
     "text": [
      "[[2 3]]\n"
     ]
    }
   ],
   "source": [
    "first_row_ = arr2d[0:1,1:]\n",
    "print(first_row_)"
   ]
  },
  {
   "cell_type": "code",
   "execution_count": 18,
   "id": "52b83953",
   "metadata": {},
   "outputs": [
    {
     "name": "stdout",
     "output_type": "stream",
     "text": [
      "[[1 2 3]\n",
      " [4 5 6]]\n"
     ]
    }
   ],
   "source": [
    "print(arr2d)"
   ]
  },
  {
   "cell_type": "code",
   "execution_count": 19,
   "id": "03f1ae79",
   "metadata": {},
   "outputs": [
    {
     "name": "stdout",
     "output_type": "stream",
     "text": [
      "[2 3]\n"
     ]
    }
   ],
   "source": [
    "first_row_ = arr2d[0,1:]\n",
    "print(first_row_)"
   ]
  },
  {
   "cell_type": "code",
   "execution_count": 20,
   "id": "abe0863e",
   "metadata": {},
   "outputs": [
    {
     "name": "stdout",
     "output_type": "stream",
     "text": [
      "[[2 3]]\n"
     ]
    }
   ],
   "source": [
    "first_row_ = arr2d[:1,1:]\n",
    "print(first_row_)"
   ]
  },
  {
   "cell_type": "code",
   "execution_count": 21,
   "id": "1e38d872",
   "metadata": {},
   "outputs": [
    {
     "name": "stdout",
     "output_type": "stream",
     "text": [
      "[2 3]\n"
     ]
    }
   ],
   "source": [
    "first_row_ = arr2d[0,1:]\n",
    "print(first_row_)"
   ]
  },
  {
   "cell_type": "markdown",
   "id": "9919a4c0",
   "metadata": {},
   "source": [
    "## Array Manipulation"
   ]
  },
  {
   "cell_type": "code",
   "execution_count": 22,
   "id": "fd535d0f",
   "metadata": {},
   "outputs": [
    {
     "name": "stdout",
     "output_type": "stream",
     "text": [
      "[[1 2 3]\n",
      " [4 5 6]]\n"
     ]
    }
   ],
   "source": [
    "print(arr2d)"
   ]
  },
  {
   "cell_type": "code",
   "execution_count": 23,
   "id": "e2cfeadf",
   "metadata": {},
   "outputs": [
    {
     "name": "stdout",
     "output_type": "stream",
     "text": [
      "[[1 2]\n",
      " [3 4]\n",
      " [5 6]]\n"
     ]
    }
   ],
   "source": [
    "#reshape\n",
    "reshaped_arr = arr2d.reshape(3,2)\n",
    "print(reshaped_arr)"
   ]
  },
  {
   "cell_type": "code",
   "execution_count": 24,
   "id": "6445ba39",
   "metadata": {},
   "outputs": [
    {
     "name": "stdout",
     "output_type": "stream",
     "text": [
      "[[1 2 3 4 5 6]]\n"
     ]
    }
   ],
   "source": [
    "reshaped_arr1 = arr2d.reshape(1,6)\n",
    "print(reshaped_arr1)"
   ]
  },
  {
   "cell_type": "code",
   "execution_count": 25,
   "id": "caa1c81c",
   "metadata": {},
   "outputs": [
    {
     "name": "stdout",
     "output_type": "stream",
     "text": [
      "[1 2 3 1 2 3]\n"
     ]
    }
   ],
   "source": [
    "#Concatenate Arrays\n",
    "arr1d = [1,2,3]\n",
    "concat_arr = np.concatenate([arr1d,arr1d])\n",
    "print(concat_arr)"
   ]
  },
  {
   "cell_type": "code",
   "execution_count": 26,
   "id": "3e038bea",
   "metadata": {},
   "outputs": [
    {
     "name": "stdout",
     "output_type": "stream",
     "text": [
      "[1 2 3 4 5 6]\n"
     ]
    }
   ],
   "source": [
    "#Concatenate Arrays 2\n",
    "arr1d = np.array([1,2,3])\n",
    "concat_arr2 = np.concatenate([arr1d,np.array([4,5,6])])\n",
    "print(concat_arr2)"
   ]
  },
  {
   "cell_type": "code",
   "execution_count": 27,
   "id": "2dc6df07",
   "metadata": {},
   "outputs": [
    {
     "name": "stdout",
     "output_type": "stream",
     "text": [
      "[1 2 3 4 5 6]\n"
     ]
    }
   ],
   "source": [
    "#append\n",
    "arr1d = np.array([1,2,3])\n",
    "append_arr = np.append(arr1d,[4,5,6])\n",
    "print(append_arr)"
   ]
  },
  {
   "cell_type": "code",
   "execution_count": 28,
   "id": "54737467",
   "metadata": {},
   "outputs": [
    {
     "name": "stdout",
     "output_type": "stream",
     "text": [
      "[1 2 3 4 5 6 7 8 9]\n"
     ]
    }
   ],
   "source": [
    "#append to 2 dimensional array\n",
    "arr2d = np.array([[1,2,3],[4,5,6]])\n",
    "append_arr1 = np.append(arr2d,[7,8,9])\n",
    "print(append_arr1)"
   ]
  },
  {
   "cell_type": "markdown",
   "id": "daaa95f0",
   "metadata": {},
   "source": [
    "## Question asked\n",
    "\n",
    "### Can you append a row ([4,5,6]) to the array [1,2,3], so it looks like this [[1,2,3],[4,5,6]] rather than this: [1,2,3,4,5,6]?"
   ]
  },
  {
   "cell_type": "markdown",
   "id": "07881b26",
   "metadata": {},
   "source": [
    "### Answer: To achieve that, both arrays need to be two-dimensional arrays."
   ]
  },
  {
   "cell_type": "code",
   "execution_count": 30,
   "id": "ddf64be0",
   "metadata": {},
   "outputs": [
    {
     "name": "stdout",
     "output_type": "stream",
     "text": [
      "[[1 2 3]\n",
      " [4 5 6]]\n"
     ]
    }
   ],
   "source": [
    "#Answer to question asked\n",
    "arr1d = np.array([[1,2,3]])\n",
    "concat_arr2 = np.concatenate([arr1d,np.array([[4,5,6]])])\n",
    "print(concat_arr2)"
   ]
  },
  {
   "cell_type": "markdown",
   "id": "96fea656",
   "metadata": {},
   "source": [
    "## Broadcasting"
   ]
  },
  {
   "cell_type": "code",
   "execution_count": 31,
   "id": "437c5798",
   "metadata": {},
   "outputs": [
    {
     "name": "stdout",
     "output_type": "stream",
     "text": [
      "[5 6 7]\n"
     ]
    }
   ],
   "source": [
    "#broadcasting\n",
    "a = np.array([1,2,3])\n",
    "b = 4\n",
    "print(a+b)"
   ]
  },
  {
   "cell_type": "code",
   "execution_count": 32,
   "id": "556cdaa5",
   "metadata": {},
   "outputs": [
    {
     "name": "stdout",
     "output_type": "stream",
     "text": [
      "[ 6 12 18]\n"
     ]
    }
   ],
   "source": [
    "a = np.array([1,2,3])\n",
    "b = 6\n",
    "print(a*b)"
   ]
  },
  {
   "cell_type": "code",
   "execution_count": 33,
   "id": "8dc37877",
   "metadata": {},
   "outputs": [
    {
     "name": "stdout",
     "output_type": "stream",
     "text": [
      "[5 6 7]\n"
     ]
    }
   ],
   "source": [
    "a = np.array([1,2,3])\n",
    "print(4 + a)"
   ]
  },
  {
   "cell_type": "markdown",
   "id": "e6bfc470",
   "metadata": {},
   "source": [
    "## Random Number Generation"
   ]
  },
  {
   "cell_type": "code",
   "execution_count": 34,
   "id": "2d355efb",
   "metadata": {},
   "outputs": [
    {
     "name": "stdout",
     "output_type": "stream",
     "text": [
      "[[0.96468241 0.17797779 0.68136972]\n",
      " [0.81117361 0.85460381 0.53754127]\n",
      " [0.12628214 0.38699588 0.18485111]]\n"
     ]
    }
   ],
   "source": [
    "random_numbers = np.random.rand(3,3)\n",
    "print(random_numbers)"
   ]
  },
  {
   "cell_type": "code",
   "execution_count": 35,
   "id": "77c09101",
   "metadata": {},
   "outputs": [
    {
     "name": "stdout",
     "output_type": "stream",
     "text": [
      "[[0.13982472 0.9226211  0.75043573 0.07342444 0.41681985 0.66383607]\n",
      " [0.55283402 0.20124802 0.7336953  0.64163205 0.86002604 0.83301745]\n",
      " [0.1295206  0.40016586 0.93971919 0.93043012 0.41874235 0.82674411]\n",
      " [0.5942855  0.65743556 0.55425314 0.94627769 0.38718068 0.03927191]]\n"
     ]
    }
   ],
   "source": [
    "random_numbers = np.random.rand(4,6)\n",
    "print(random_numbers)"
   ]
  },
  {
   "cell_type": "code",
   "execution_count": 36,
   "id": "e2352ff1",
   "metadata": {},
   "outputs": [
    {
     "name": "stdout",
     "output_type": "stream",
     "text": [
      "[93 20 81 13 16 84]\n"
     ]
    }
   ],
   "source": [
    "random_numbers_ = np.random.randint(0,100,6)\n",
    "print(random_numbers_)"
   ]
  },
  {
   "cell_type": "code",
   "execution_count": 37,
   "id": "95e09337",
   "metadata": {},
   "outputs": [
    {
     "name": "stdout",
     "output_type": "stream",
     "text": [
      "[[77 47]\n",
      " [82 67]\n",
      " [82 88]]\n"
     ]
    }
   ],
   "source": [
    "random_numbers_ = np.random.randint(0,100,6).reshape(3,2)\n",
    "print(random_numbers_)"
   ]
  },
  {
   "cell_type": "markdown",
   "id": "2da913c1",
   "metadata": {},
   "source": [
    "## Linear Algebra"
   ]
  },
  {
   "cell_type": "code",
   "execution_count": 38,
   "id": "da904c4c",
   "metadata": {},
   "outputs": [
    {
     "name": "stdout",
     "output_type": "stream",
     "text": [
      "[[ 6  8]\n",
      " [10 12]]\n"
     ]
    }
   ],
   "source": [
    "# Matrix Addition\n",
    "A = np.array([[1,2],[3,4]])\n",
    "B = np.array([[5,6],[7,8]])\n",
    "print(A + B)"
   ]
  },
  {
   "cell_type": "code",
   "execution_count": 39,
   "id": "9075c7cf",
   "metadata": {},
   "outputs": [
    {
     "name": "stdout",
     "output_type": "stream",
     "text": [
      "[[-4 -4]\n",
      " [-4 -4]]\n"
     ]
    }
   ],
   "source": [
    "#Matrix Subtraction\n",
    "print(A - B)"
   ]
  },
  {
   "cell_type": "code",
   "execution_count": 40,
   "id": "18bb8252",
   "metadata": {},
   "outputs": [
    {
     "name": "stdout",
     "output_type": "stream",
     "text": [
      "[[ 5 12]\n",
      " [21 32]]\n"
     ]
    }
   ],
   "source": [
    "#Matrix Multiplication\n",
    "print(A * B)"
   ]
  },
  {
   "cell_type": "code",
   "execution_count": 41,
   "id": "a6342232",
   "metadata": {},
   "outputs": [
    {
     "name": "stdout",
     "output_type": "stream",
     "text": [
      "[[19 22]\n",
      " [43 50]]\n"
     ]
    }
   ],
   "source": [
    "#Normal Matrix Multiplication\n",
    "F = np.dot(A,B)\n",
    "print(F)"
   ]
  },
  {
   "cell_type": "code",
   "execution_count": 42,
   "id": "d39885d3",
   "metadata": {},
   "outputs": [
    {
     "name": "stdout",
     "output_type": "stream",
     "text": [
      "[[ 5 12]\n",
      " [21 32]]\n"
     ]
    }
   ],
   "source": [
    "#Matrix Multiplication (Column-wise)\n",
    "print(A * B)"
   ]
  },
  {
   "cell_type": "code",
   "execution_count": 44,
   "id": "e6f8005d",
   "metadata": {},
   "outputs": [
    {
     "name": "stdout",
     "output_type": "stream",
     "text": [
      "[[19 22]\n",
      " [43 50]]\n"
     ]
    }
   ],
   "source": [
    "# Standard Matrix multiplication\n",
    "F = np.dot(A,B)\n",
    "print(F)"
   ]
  },
  {
   "cell_type": "code",
   "execution_count": 45,
   "id": "5100e944",
   "metadata": {},
   "outputs": [
    {
     "name": "stdout",
     "output_type": "stream",
     "text": [
      "[[1 3]\n",
      " [2 4]]\n"
     ]
    }
   ],
   "source": [
    "#Transpose of a matrix\n",
    "transpose_A = np.transpose(A)\n",
    "print(transpose_A)"
   ]
  },
  {
   "cell_type": "code",
   "execution_count": 46,
   "id": "c84f7a19",
   "metadata": {},
   "outputs": [
    {
     "name": "stdout",
     "output_type": "stream",
     "text": [
      "[[5 7]\n",
      " [6 8]]\n"
     ]
    }
   ],
   "source": [
    "#Transpose of a matrix\n",
    "transpose_B = np.transpose(B)\n",
    "print(transpose_B)"
   ]
  },
  {
   "cell_type": "code",
   "execution_count": 47,
   "id": "96af4019",
   "metadata": {},
   "outputs": [
    {
     "name": "stdout",
     "output_type": "stream",
     "text": [
      "[[-2.   1. ]\n",
      " [ 1.5 -0.5]]\n"
     ]
    }
   ],
   "source": [
    "#Inverse of a matrix\n",
    "A_inv = np.linalg.inv(A)\n",
    "print(A_inv)"
   ]
  },
  {
   "cell_type": "code",
   "execution_count": 48,
   "id": "5a27840b",
   "metadata": {},
   "outputs": [
    {
     "name": "stdout",
     "output_type": "stream",
     "text": [
      "[[-4.   3. ]\n",
      " [ 3.5 -2.5]]\n"
     ]
    }
   ],
   "source": [
    "#Inverse of a matrix\n",
    "B_inv = np.linalg.inv(B)\n",
    "print(B_inv)"
   ]
  },
  {
   "cell_type": "code",
   "execution_count": 49,
   "id": "ca250caf",
   "metadata": {},
   "outputs": [
    {
     "name": "stdout",
     "output_type": "stream",
     "text": [
      "[[1. 0. 0. 0.]\n",
      " [0. 1. 0. 0.]\n",
      " [0. 0. 1. 0.]\n",
      " [0. 0. 0. 1.]]\n"
     ]
    }
   ],
   "source": [
    "#identity Matrix\n",
    "identity_matrix = np.eye(4)\n",
    "print(identity_matrix)"
   ]
  },
  {
   "cell_type": "code",
   "execution_count": 50,
   "id": "9e664311",
   "metadata": {},
   "outputs": [
    {
     "name": "stdout",
     "output_type": "stream",
     "text": [
      "-2\n"
     ]
    }
   ],
   "source": [
    "#determinant of a matrix\n",
    "determinant = np.linalg.det(B)\n",
    "print(int(determinant))"
   ]
  },
  {
   "cell_type": "markdown",
   "id": "698af463",
   "metadata": {},
   "source": [
    "## Delete elements in an array"
   ]
  },
  {
   "cell_type": "code",
   "execution_count": 51,
   "id": "3f4ea1f1",
   "metadata": {},
   "outputs": [
    {
     "name": "stdout",
     "output_type": "stream",
     "text": [
      "[1 2 4 5]\n"
     ]
    }
   ],
   "source": [
    "arr = np.array([1,2,3,4,5])\n",
    "arr_deleted = np.delete(arr,2)\n",
    "print(arr_deleted)"
   ]
  },
  {
   "cell_type": "code",
   "execution_count": 52,
   "id": "a76fc76b",
   "metadata": {},
   "outputs": [
    {
     "name": "stdout",
     "output_type": "stream",
     "text": [
      "[1 2 3 4]\n"
     ]
    }
   ],
   "source": [
    "arr_deleted = np.delete(arr,4)\n",
    "print(arr_deleted)"
   ]
  },
  {
   "cell_type": "code",
   "execution_count": 53,
   "id": "32c2d6dd",
   "metadata": {},
   "outputs": [
    {
     "name": "stdout",
     "output_type": "stream",
     "text": [
      "['Madrid' 'Dortmund' 'PSG' 'Mancity']\n"
     ]
    }
   ],
   "source": [
    "club_arr = np.array(['Madrid','Barcelona','Arsenal','Dortmund','PSG','Mancity'])\n",
    "arr_deleted = np.delete(club_arr,[1,2])\n",
    "print(arr_deleted)"
   ]
  },
  {
   "cell_type": "code",
   "execution_count": 54,
   "id": "dfdeef2f",
   "metadata": {},
   "outputs": [
    {
     "name": "stdout",
     "output_type": "stream",
     "text": [
      "[1 2 3 4]\n"
     ]
    }
   ],
   "source": [
    "arr = np.array([1,2,3,4,5])\n",
    "m = arr != 5\n",
    "new_arr = arr[m]\n",
    "print(new_arr)"
   ]
  },
  {
   "cell_type": "markdown",
   "id": "1fac4f66",
   "metadata": {},
   "source": [
    "### To make sure that the elements that are removed in arr_deleted are also deleted in club_arr"
   ]
  },
  {
   "cell_type": "code",
   "execution_count": 56,
   "id": "3cc70d18",
   "metadata": {},
   "outputs": [
    {
     "name": "stdout",
     "output_type": "stream",
     "text": [
      "['Madrid' 'Dortmund' 'PSG' 'Mancity']\n"
     ]
    }
   ],
   "source": [
    "club_arr = np.array(['Madrid','Barcelona','Arsenal','Dortmund','PSG','Mancity'])\n",
    "arr_deleted = np.delete(club_arr,[1,2])\n",
    "club_arr = arr_deleted\n",
    "print(club_arr)\n",
    "      "
   ]
  },
  {
   "cell_type": "markdown",
   "id": "e0af0e2f",
   "metadata": {},
   "source": [
    "## Statistical Functions"
   ]
  },
  {
   "cell_type": "code",
   "execution_count": 57,
   "id": "df49daf4",
   "metadata": {},
   "outputs": [],
   "source": [
    "arr = np.array([1,2,3,4,5])\n"
   ]
  },
  {
   "cell_type": "code",
   "execution_count": 58,
   "id": "ad664419",
   "metadata": {},
   "outputs": [
    {
     "name": "stdout",
     "output_type": "stream",
     "text": [
      "3.0\n"
     ]
    }
   ],
   "source": [
    "#mean\n",
    "arr_mean = np.mean(arr)\n",
    "print(arr_mean)"
   ]
  },
  {
   "cell_type": "code",
   "execution_count": 59,
   "id": "f135a01f",
   "metadata": {},
   "outputs": [
    {
     "name": "stdout",
     "output_type": "stream",
     "text": [
      "3.0\n"
     ]
    }
   ],
   "source": [
    "#median\n",
    "arr_median = np.median(arr)\n",
    "print(arr_median)"
   ]
  },
  {
   "cell_type": "code",
   "execution_count": 61,
   "id": "8f2b2591",
   "metadata": {},
   "outputs": [
    {
     "name": "stdout",
     "output_type": "stream",
     "text": [
      "ModeResult(mode=2, count=2)\n"
     ]
    }
   ],
   "source": [
    "#Mode : numpy does not have the mode method, so scipy can be used\n",
    "arr_ = np.array([1,2,2,3,4,5,6])\n",
    "from scipy import stats\n",
    "arr_mode = stats.mode(arr_,keepdims = False)\n",
    "print(arr_mode)"
   ]
  },
  {
   "cell_type": "code",
   "execution_count": 62,
   "id": "29fd9207",
   "metadata": {},
   "outputs": [
    {
     "name": "stdout",
     "output_type": "stream",
     "text": [
      "1.4142135623730951\n"
     ]
    }
   ],
   "source": [
    "#standard deviation\n",
    "arr_std = np.std(arr)\n",
    "print(arr_std)"
   ]
  },
  {
   "cell_type": "code",
   "execution_count": null,
   "id": "d21d704b",
   "metadata": {},
   "outputs": [],
   "source": []
  }
 ],
 "metadata": {
  "kernelspec": {
   "display_name": "Python 3 (ipykernel)",
   "language": "python",
   "name": "python3"
  },
  "language_info": {
   "codemirror_mode": {
    "name": "ipython",
    "version": 3
   },
   "file_extension": ".py",
   "mimetype": "text/x-python",
   "name": "python",
   "nbconvert_exporter": "python",
   "pygments_lexer": "ipython3",
   "version": "3.11.8"
  }
 },
 "nbformat": 4,
 "nbformat_minor": 5
}
