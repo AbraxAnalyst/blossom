{
 "cells": [
  {
   "cell_type": "code",
   "execution_count": 1,
   "id": "57f6e4f7-cef1-49a0-b63e-2f6035d112ac",
   "metadata": {},
   "outputs": [],
   "source": [
    "Name = \"Aderounmu Abiodun\""
   ]
  },
  {
   "cell_type": "code",
   "execution_count": 11,
   "id": "779d9a5e-85b2-473c-8d29-f62c721faa89",
   "metadata": {},
   "outputs": [],
   "source": [
    "Name=Name.split(\" \")"
   ]
  },
  {
   "cell_type": "code",
   "execution_count": 12,
   "id": "909bb9c6-ee20-477a-88f9-14b63b8d520e",
   "metadata": {},
   "outputs": [
    {
     "name": "stdout",
     "output_type": "stream",
     "text": [
      "Aderounmu_Abiodun\n"
     ]
    }
   ],
   "source": [
    "print('_'.join(Name))"
   ]
  },
  {
   "cell_type": "code",
   "execution_count": 17,
   "id": "9a9c7d65-6fe6-4386-81ec-1b6d18cf8b22",
   "metadata": {},
   "outputs": [],
   "source": [
    "firstname= 'Abiodun' \n",
    "lastname = 'Emmanuel'"
   ]
  },
  {
   "cell_type": "code",
   "execution_count": 21,
   "id": "72354145-a087-4256-a0af-f24047934224",
   "metadata": {},
   "outputs": [
    {
     "name": "stdout",
     "output_type": "stream",
     "text": [
      "Hello everyone, my name is Abiodun Emmanuel\n"
     ]
    }
   ],
   "source": [
    "print(f\"Hello everyone, my name is {firstname} {lastname}\" )\n"
   ]
  },
  {
   "cell_type": "code",
   "execution_count": 26,
   "id": "5f0f8c66-0d22-4dca-bfbf-7f87b0971573",
   "metadata": {},
   "outputs": [
    {
     "name": "stdin",
     "output_type": "stream",
     "text": [
      "Enter an integer  4\n"
     ]
    },
    {
     "name": "stdout",
     "output_type": "stream",
     "text": [
      "You just entered an Even number\n"
     ]
    }
   ],
   "source": [
    "num = int(input(\"Enter an integer \"))\n",
    "if num%2==0:\n",
    "    print(\"You just entered an Even number\")\n",
    "else:\n",
    "    print(\"Oh you just entered ODD number\")"
   ]
  },
  {
   "cell_type": "code",
   "execution_count": 27,
   "id": "2c39ffc1-82d0-4b16-8e80-552d5775f273",
   "metadata": {},
   "outputs": [
    {
     "data": {
      "text/plain": [
       "4"
      ]
     },
     "execution_count": 27,
     "metadata": {},
     "output_type": "execute_result"
    }
   ],
   "source": [
    "2 + 2"
   ]
  },
  {
   "cell_type": "code",
   "execution_count": 2,
   "id": "8e90b9f2-5200-4df7-993a-6758e9909a13",
   "metadata": {},
   "outputs": [],
   "source": [
    "Fruits= [\"Mango\", \"Apple\", \"Banana\"]"
   ]
  },
  {
   "cell_type": "code",
   "execution_count": 43,
   "id": "b76c0b07-7c40-4d18-a03b-de78ce036d01",
   "metadata": {},
   "outputs": [
    {
     "name": "stdout",
     "output_type": "stream",
     "text": [
      "Mango\n",
      "Apple\n",
      "Banana\n"
     ]
    }
   ],
   "source": [
    "for fruit in Fruits:\n",
    "    \n",
    "    print(fruit)"
   ]
  },
  {
   "cell_type": "code",
   "execution_count": 3,
   "id": "555882cb-8599-4399-aa1e-c7d4c2ccfc48",
   "metadata": {},
   "outputs": [
    {
     "name": "stdout",
     "output_type": "stream",
     "text": [
      "Mango\n",
      "Apple\n",
      "Banana\n"
     ]
    }
   ],
   "source": [
    "i=0\n",
    "while i < len(Fruits):\n",
    "    print (Fruits[i])\n",
    "    i=i+1\n",
    "    "
   ]
  },
  {
   "cell_type": "code",
   "execution_count": 5,
   "id": "3b08d234-cae4-4712-8aea-d2a1e3bb4da9",
   "metadata": {},
   "outputs": [
    {
     "name": "stdout",
     "output_type": "stream",
     "text": [
      "159\n"
     ]
    }
   ],
   "source": [
    "num = [20,30, 49,60]\n",
    "i = 0\n",
    "sum =0\n",
    "while i < len(num):\n",
    "    sum += num[i]\n",
    "    i +=1\n",
    "print(sum)"
   ]
  },
  {
   "cell_type": "code",
   "execution_count": 26,
   "id": "b327d912-272e-41aa-aca1-444df530892b",
   "metadata": {},
   "outputs": [
    {
     "ename": "SyntaxError",
     "evalue": "invalid syntax (4066091502.py, line 1)",
     "output_type": "error",
     "traceback": [
      "\u001b[1;36m  Cell \u001b[1;32mIn[26], line 1\u001b[1;36m\u001b[0m\n\u001b[1;33m    my_dict = ['name': 'Abrax', 'age':28, 'sport':'tennis']\u001b[0m\n\u001b[1;37m                     ^\u001b[0m\n\u001b[1;31mSyntaxError\u001b[0m\u001b[1;31m:\u001b[0m invalid syntax\n"
     ]
    }
   ],
   "source": [
    "my_dict = {'name': 'Abrax', 'age':28, 'sport':'tennis'}"
   ]
  },
  {
   "cell_type": "code",
   "execution_count": 30,
   "id": "9a8e0568-a60d-48e3-b9a9-02f57ce9d00f",
   "metadata": {},
   "outputs": [
    {
     "name": "stdout",
     "output_type": "stream",
     "text": [
      "name Abrax\n",
      "age 28\n",
      "sport tennis\n"
     ]
    }
   ],
   "source": [
    "keys= list(my_dict.keys())\n",
    "i = 0\n",
    "while i < len(keys):\n",
    "    key = keys[i]\n",
    "    value = my_dict[key]\n",
    "    print(f\"{key} {value}\" )\n",
    "    i +=1"
   ]
  },
  {
   "cell_type": "code",
   "execution_count": 32,
   "id": "d34ff316-3b5e-4636-beec-1ac4cbf5e129",
   "metadata": {},
   "outputs": [
    {
     "name": "stdout",
     "output_type": "stream",
     "text": [
      "['name', 'age', 'sport']\n"
     ]
    }
   ],
   "source": [
    "print(keys)"
   ]
  },
  {
   "cell_type": "code",
   "execution_count": 31,
   "id": "6dfd33a4-4f24-4643-a7c9-00a3f4fce262",
   "metadata": {},
   "outputs": [
    {
     "data": {
      "text/plain": [
       "3"
      ]
     },
     "execution_count": 31,
     "metadata": {},
     "output_type": "execute_result"
    }
   ],
   "source": [
    "len(keys)"
   ]
  },
  {
   "cell_type": "code",
   "execution_count": 33,
   "id": "0015480b-30f9-4fea-923c-3184f1bf50da",
   "metadata": {},
   "outputs": [
    {
     "name": "stdout",
     "output_type": "stream",
     "text": [
      "name Abrax\n",
      "age 28\n",
      "sport tennis\n"
     ]
    }
   ],
   "source": [
    "for key, value in my_dict.items():\n",
    "    print(f\"{key} {value}\")"
   ]
  },
  {
   "cell_type": "code",
   "execution_count": 34,
   "id": "78406001-d27b-4e71-b2ac-37abc53000b0",
   "metadata": {},
   "outputs": [],
   "source": [
    "def vote(age):\n",
    "    if age < 18:\n",
    "        print(\"You are not eligible to vote\")\n",
    "    else:\n",
    "        print(\"Congratulations you can vote\")"
   ]
  },
  {
   "cell_type": "code",
   "execution_count": 35,
   "id": "918712f6-585e-4911-a7f0-c019dd6d145a",
   "metadata": {},
   "outputs": [
    {
     "name": "stdout",
     "output_type": "stream",
     "text": [
      "Congratulations you can vote\n"
     ]
    }
   ],
   "source": [
    "vote(20)"
   ]
  },
  {
   "cell_type": "code",
   "execution_count": 36,
   "id": "719748df-c951-4ae4-8df7-4ceccba4852f",
   "metadata": {},
   "outputs": [],
   "source": [
    "def add(a,b):\n",
    "    return a+b"
   ]
  },
  {
   "cell_type": "code",
   "execution_count": 37,
   "id": "6d27714b-92dc-44de-b892-aee740f6dbfe",
   "metadata": {},
   "outputs": [
    {
     "data": {
      "text/plain": [
       "26"
      ]
     },
     "execution_count": 37,
     "metadata": {},
     "output_type": "execute_result"
    }
   ],
   "source": [
    "add(14,12)"
   ]
  },
  {
   "cell_type": "code",
   "execution_count": 42,
   "id": "48aa0ae3-2295-4de3-a446-63e7f4d5161e",
   "metadata": {},
   "outputs": [],
   "source": [
    "total=lambda a, b , c: a+b + c"
   ]
  },
  {
   "cell_type": "code",
   "execution_count": 46,
   "id": "522b6640-efa4-46e1-bba2-32618bd33551",
   "metadata": {},
   "outputs": [
    {
     "data": {
      "text/plain": [
       "52"
      ]
     },
     "execution_count": 46,
     "metadata": {},
     "output_type": "execute_result"
    }
   ],
   "source": [
    "total(20, 4, 8)"
   ]
  },
  {
   "cell_type": "code",
   "execution_count": 51,
   "id": "64516b12-ca68-4183-a938-53f190c93b88",
   "metadata": {},
   "outputs": [
    {
     "name": "stdout",
     "output_type": "stream",
     "text": [
      "[4, 16, 36, 64]\n"
     ]
    }
   ],
   "source": [
    "list_ = [2,4,6,8]\n",
    "emma_ = []\n",
    "for item in list_:\n",
    "    emma_.append(item*item)\n",
    "print(emma_)"
   ]
  },
  {
   "cell_type": "code",
   "execution_count": 54,
   "id": "4a01967e-98fc-4ff2-ab58-99195c45a3ed",
   "metadata": {},
   "outputs": [
    {
     "name": "stdout",
     "output_type": "stream",
     "text": [
      "[4, 16, 36, 64]\n"
     ]
    }
   ],
   "source": [
    "squared_number = map(lambda x: x**2, list_)\n",
    "print(list(squared_number))"
   ]
  },
  {
   "cell_type": "code",
   "execution_count": 55,
   "id": "09d876ed-5580-4951-9df3-14ccd0a603eb",
   "metadata": {},
   "outputs": [
    {
     "name": "stdout",
     "output_type": "stream",
     "text": [
      "[7, 9, 11, 13]\n"
     ]
    }
   ],
   "source": [
    "squared_number = map(lambda x: x+5, list_)\n",
    "print(list(squared_number))"
   ]
  },
  {
   "cell_type": "code",
   "execution_count": 56,
   "id": "7e788f0e-52f9-4648-a349-89bf674f7a6f",
   "metadata": {},
   "outputs": [
    {
     "name": "stdout",
     "output_type": "stream",
     "text": [
      "[2, 4, 6, 8]\n"
     ]
    }
   ],
   "source": [
    "even_number= filter(lambda x: x%2==0, list_)\n",
    "print(list(even_number))"
   ]
  },
  {
   "cell_type": "code",
   "execution_count": 59,
   "id": "53d57ce1-f602-4979-bda2-74d98f60874a",
   "metadata": {},
   "outputs": [
    {
     "name": "stdout",
     "output_type": "stream",
     "text": [
      "20\n"
     ]
    }
   ],
   "source": [
    "from functools import reduce\n",
    "total = reduce(lambda a,b:a+b, list_)\n",
    "print(total)"
   ]
  },
  {
   "cell_type": "code",
   "execution_count": 61,
   "id": "f5332569-a15e-4eea-8743-6b99b30c8aaf",
   "metadata": {},
   "outputs": [
    {
     "name": "stdout",
     "output_type": "stream",
     "text": [
      "24\n"
     ]
    }
   ],
   "source": [
    "list_=[20,21,23,19,24]\n",
    "print(max(list_))"
   ]
  },
  {
   "cell_type": "code",
   "execution_count": null,
   "id": "b823aa60-40a1-43a6-bf02-8815539cd501",
   "metadata": {},
   "outputs": [],
   "source": []
  }
 ],
 "metadata": {
  "kernelspec": {
   "display_name": "Python 3 (ipykernel)",
   "language": "python",
   "name": "python3"
  },
  "language_info": {
   "codemirror_mode": {
    "name": "ipython",
    "version": 3
   },
   "file_extension": ".py",
   "mimetype": "text/x-python",
   "name": "python",
   "nbconvert_exporter": "python",
   "pygments_lexer": "ipython3",
   "version": "3.11.8"
  }
 },
 "nbformat": 4,
 "nbformat_minor": 5
}
