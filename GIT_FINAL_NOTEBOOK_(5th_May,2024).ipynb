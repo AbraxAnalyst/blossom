{
  "nbformat": 4,
  "nbformat_minor": 0,
  "metadata": {
    "colab": {
      "provenance": []
    },
    "kernelspec": {
      "name": "python3",
      "display_name": "Python 3"
    },
    "language_info": {
      "name": "python"
    }
  },
  "cells": [
    {
      "cell_type": "markdown",
      "source": [
        "# Merge Conflict"
      ],
      "metadata": {
        "id": "oWqXZVMW2hCk"
      }
    },
    {
      "cell_type": "markdown",
      "source": [
        "A merge conflict happens in Git when two different branches contain conflicting changes to the same part of a file. It requires manual intervention to decide which changes to keep."
      ],
      "metadata": {
        "id": "z99igudD2l9X"
      }
    },
    {
      "cell_type": "markdown",
      "source": [
        "## Illustration"
      ],
      "metadata": {
        "id": "_Gctz23E69o_"
      }
    },
    {
      "cell_type": "markdown",
      "source": [
        "    git init\n",
        "    echo \"This is some content\" > example.txt"
      ],
      "metadata": {
        "id": "rZVolcD969v9"
      }
    },
    {
      "cell_type": "markdown",
      "source": [
        "### Commit changes"
      ],
      "metadata": {
        "id": "eGrMcTY8_bHg"
      }
    },
    {
      "cell_type": "markdown",
      "source": [
        "    git add .\n",
        "    git commit -m \"Initial commit\""
      ],
      "metadata": {
        "id": "xt9aDxVn691s"
      }
    },
    {
      "cell_type": "markdown",
      "source": [
        "### Create a new branch and Switch to it"
      ],
      "metadata": {
        "id": "4r7ZZj84_QqD"
      }
    },
    {
      "cell_type": "markdown",
      "source": [
        "    git branch feature\n",
        "    git checkout feature\n",
        "\n",
        "    or\n",
        "\n",
        "    git checkout -b feature"
      ],
      "metadata": {
        "id": "Yhq1AANr695U"
      }
    },
    {
      "cell_type": "markdown",
      "source": [
        "    echo \"This is some content\" >> example.txt\n",
        "\n",
        "\n",
        "\n",
        "\n"
      ],
      "metadata": {
        "id": "_3npOhac698q"
      }
    },
    {
      "cell_type": "markdown",
      "source": [
        "### Commit changes to the new branch"
      ],
      "metadata": {
        "id": "pa27LHaG_fKw"
      }
    },
    {
      "cell_type": "markdown",
      "source": [
        "    git add example.txt\n",
        "    git commit -m \"content\""
      ],
      "metadata": {
        "id": "L8mC9roS6-Cf"
      }
    },
    {
      "cell_type": "markdown",
      "source": [
        "### Switch to the main branch"
      ],
      "metadata": {
        "id": "MquLH0yG_mJA"
      }
    },
    {
      "cell_type": "markdown",
      "source": [
        "    git checkout main\n",
        "    echo \"this is conflicting content on the branch\" > example.txt"
      ],
      "metadata": {
        "id": "lfDjIXzN6-GT"
      }
    },
    {
      "cell_type": "markdown",
      "source": [
        "### Commit Changes to the main branch"
      ],
      "metadata": {
        "id": "wuiEdYfH_L_C"
      }
    },
    {
      "cell_type": "markdown",
      "source": [
        "    git add example.txt\n",
        "    git commit -m \"Added conflicting content on main branch\""
      ],
      "metadata": {
        "id": "rOEOrm8i_MB9"
      }
    },
    {
      "cell_type": "markdown",
      "source": [
        "### Merge with the new branch\n"
      ],
      "metadata": {
        "id": "H9xaZ2eX_MFT"
      }
    },
    {
      "cell_type": "markdown",
      "source": [
        "    git merge feature"
      ],
      "metadata": {
        "id": "DElhlVtg_Mmq"
      }
    },
    {
      "cell_type": "markdown",
      "source": [
        "### Merge Conflict\n",
        "#### Resolve the conflict manually"
      ],
      "metadata": {
        "id": "oa8j1NXg6-e2"
      }
    },
    {
      "cell_type": "markdown",
      "source": [
        "### Commit the Resolved conflict"
      ],
      "metadata": {
        "id": "Ay5oF9A7Af7a"
      }
    },
    {
      "cell_type": "markdown",
      "source": [
        "    git add example.txt\n",
        "    git commit -m \"conflict resolved\""
      ],
      "metadata": {
        "id": "rw0YkpYyBB0l"
      }
    }
  ]
}